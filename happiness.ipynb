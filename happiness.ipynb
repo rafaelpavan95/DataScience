{
 "cells": [
  {
   "cell_type": "markdown",
   "metadata": {},
   "source": [
    "# Analisando a Felicidade com Projeção Multidimensional, Coordenadas Paralelas e Random Forest"
   ]
  },
  {
   "cell_type": "markdown",
   "metadata": {},
   "source": [
    "As pontuações e classificações de felicidade usam dados da Pesquisa Mundial Gallup. Essa pesquisa solicita que os entrevistados pensem em uma escala onde a melhor vida possível corresponde a 10 e a pior vida possível a 0 e classifiquem suas próprias vidas atuais nessa escala. As pontuações são de amostras nacionalmente representativas para os anos 2015-2017 e usam os pesos Gallup para tornar as estimativas representativas. As colunas que seguem o índice de felicidade estimam até que ponto cada um dos seis fatores - produção econômica, suporte social, expectativa de vida, liberdade, ausência de corrupção e generosidade - contribui para tornar as avaliações de vida mais altas em cada país do que na Distopia. país hipotético que possui valores iguais às médias nacionais mais baixas do mundo para cada um dos seis fatores. Eles não têm impacto na pontuação total relatada para cada país, mas explicam por que alguns países têm uma classificação mais alta do que outros.\n",
    "\n",
    "O que é distopia?\n",
    "\n",
    "A distopia é um país imaginário que tem as pessoas menos felizes do mundo. O objetivo no estabelecimento da Distopia é ter uma referência com a qual todos os países possam ser comparados favoravelmente (nenhum país apresenta desempenho inferior ao da Distopia) em termos de cada uma das seis variáveis principais, permitindo assim que cada sub-barra tenha largura positiva. Os menores escores observados para as seis variáveis principais caracterizam, portanto, Distopia. Como a vida seria muito desagradável em um país com as menores rendas do mundo, menor expectativa de vida, menor generosidade, maior corrupção, menos liberdade e menos apoio social, é chamada de \"Distopia\", em contraste com a utopia.\n",
    "\n",
    "#### Source: https://www.kaggle.com/unsdsn/world-happiness\n",
    "\n",
    "## Dicionário dos Dados\n",
    "\n",
    "- Economy: Score relacionado ao PIB Per Capita\n",
    "- Family: Score relacionado a família\n",
    "- Freedom: Score relacionado a liberdade\n",
    "- Corruption: Score relacionado a confiança no governo\n",
    "- Generosity: Score relacionado a generosidade\n",
    "- Health: Score relacionado a expectativa de vida\n",
    "- Happiness Score: Nota total\n",
    "- Happiness Rank: Posição do país no rank"
   ]
  },
  {
   "cell_type": "markdown",
   "metadata": {},
   "source": [
    "## Metodologia\n",
    "\n",
    "Vamos analisar os dados em 3 Etapas:\n",
    "\n",
    "- Etapa 1: Carregaremos os dados, e realizaremos modificações necessárias em sua extrutura para posterior análise.\n",
    "- Etapa 2: Vamos realizar um plot de projeção multidimensional interativo.\n",
    "- Etapa 3: Iremos realizar um plot de coordenadas paralelas.\n",
    "- Etapa 4: Utilizaremos de Random Forest para realizar um Feature Selection, avaliando quais variáveis são mais importantes.\n",
    "- Etapa 5: Aplicaremos um simples modelo de Regressão para tentar prever o Happiness Score com base nas outras variáveis."
   ]
  },
  {
   "cell_type": "markdown",
   "metadata": {},
   "source": [
    "### Etapa 1: Carregamento e análise dos dados"
   ]
  },
  {
   "cell_type": "code",
   "execution_count": 70,
   "metadata": {},
   "outputs": [],
   "source": [
    "import pandas as pd\n",
    "import numpy as np\n",
    "import matplotlib.pyplot as plt\n",
    "import seaborn as sns\n",
    "from bokeh.models import CategoricalColorMapper, ColumnDataSource, HoverTool\n",
    "from bokeh.plotting import figure, output_notebook\n",
    "from bokeh.io import show, output_file\n",
    "from bokeh.transform import factor_cmap\n",
    "from sklearn import manifold\n",
    "import plotly.express as px\n",
    "from sklearn.ensemble import RandomForestRegressor\n",
    "from sklearn.model_selection import train_test_split\n",
    "from sklearn import preprocessing\n",
    "from sklearn.linear_model import Ridge\n",
    "from sklearn.metrics import mean_squared_error\n",
    "from sklearn.metrics import r2_score\n",
    "from math import sqrt\n",
    "sns.set_palette(\"hls\")\n",
    "%matplotlib inline"
   ]
  },
  {
   "cell_type": "code",
   "execution_count": 2,
   "metadata": {},
   "outputs": [],
   "source": [
    "data2015 = pd.read_csv('2015.csv')\n",
    "data2016 = pd.read_csv('2016.csv')\n",
    "data2017 = pd.read_csv('2017.csv')"
   ]
  },
  {
   "cell_type": "code",
   "execution_count": 3,
   "metadata": {},
   "outputs": [
    {
     "data": {
      "text/html": [
       "<div>\n",
       "<style scoped>\n",
       "    .dataframe tbody tr th:only-of-type {\n",
       "        vertical-align: middle;\n",
       "    }\n",
       "\n",
       "    .dataframe tbody tr th {\n",
       "        vertical-align: top;\n",
       "    }\n",
       "\n",
       "    .dataframe thead th {\n",
       "        text-align: right;\n",
       "    }\n",
       "</style>\n",
       "<table border=\"1\" class=\"dataframe\">\n",
       "  <thead>\n",
       "    <tr style=\"text-align: right;\">\n",
       "      <th></th>\n",
       "      <th>Country</th>\n",
       "      <th>Region</th>\n",
       "      <th>Happiness Rank</th>\n",
       "      <th>Happiness Score</th>\n",
       "      <th>Standard Error</th>\n",
       "      <th>Economy (GDP per Capita)</th>\n",
       "      <th>Family</th>\n",
       "      <th>Health (Life Expectancy)</th>\n",
       "      <th>Freedom</th>\n",
       "      <th>Trust (Government Corruption)</th>\n",
       "      <th>Generosity</th>\n",
       "      <th>Dystopia Residual</th>\n",
       "    </tr>\n",
       "  </thead>\n",
       "  <tbody>\n",
       "    <tr>\n",
       "      <th>0</th>\n",
       "      <td>Switzerland</td>\n",
       "      <td>Western Europe</td>\n",
       "      <td>1</td>\n",
       "      <td>7.587</td>\n",
       "      <td>0.03411</td>\n",
       "      <td>1.39651</td>\n",
       "      <td>1.34951</td>\n",
       "      <td>0.94143</td>\n",
       "      <td>0.66557</td>\n",
       "      <td>0.41978</td>\n",
       "      <td>0.29678</td>\n",
       "      <td>2.51738</td>\n",
       "    </tr>\n",
       "    <tr>\n",
       "      <th>1</th>\n",
       "      <td>Iceland</td>\n",
       "      <td>Western Europe</td>\n",
       "      <td>2</td>\n",
       "      <td>7.561</td>\n",
       "      <td>0.04884</td>\n",
       "      <td>1.30232</td>\n",
       "      <td>1.40223</td>\n",
       "      <td>0.94784</td>\n",
       "      <td>0.62877</td>\n",
       "      <td>0.14145</td>\n",
       "      <td>0.43630</td>\n",
       "      <td>2.70201</td>\n",
       "    </tr>\n",
       "    <tr>\n",
       "      <th>2</th>\n",
       "      <td>Denmark</td>\n",
       "      <td>Western Europe</td>\n",
       "      <td>3</td>\n",
       "      <td>7.527</td>\n",
       "      <td>0.03328</td>\n",
       "      <td>1.32548</td>\n",
       "      <td>1.36058</td>\n",
       "      <td>0.87464</td>\n",
       "      <td>0.64938</td>\n",
       "      <td>0.48357</td>\n",
       "      <td>0.34139</td>\n",
       "      <td>2.49204</td>\n",
       "    </tr>\n",
       "    <tr>\n",
       "      <th>3</th>\n",
       "      <td>Norway</td>\n",
       "      <td>Western Europe</td>\n",
       "      <td>4</td>\n",
       "      <td>7.522</td>\n",
       "      <td>0.03880</td>\n",
       "      <td>1.45900</td>\n",
       "      <td>1.33095</td>\n",
       "      <td>0.88521</td>\n",
       "      <td>0.66973</td>\n",
       "      <td>0.36503</td>\n",
       "      <td>0.34699</td>\n",
       "      <td>2.46531</td>\n",
       "    </tr>\n",
       "    <tr>\n",
       "      <th>4</th>\n",
       "      <td>Canada</td>\n",
       "      <td>North America</td>\n",
       "      <td>5</td>\n",
       "      <td>7.427</td>\n",
       "      <td>0.03553</td>\n",
       "      <td>1.32629</td>\n",
       "      <td>1.32261</td>\n",
       "      <td>0.90563</td>\n",
       "      <td>0.63297</td>\n",
       "      <td>0.32957</td>\n",
       "      <td>0.45811</td>\n",
       "      <td>2.45176</td>\n",
       "    </tr>\n",
       "  </tbody>\n",
       "</table>\n",
       "</div>"
      ],
      "text/plain": [
       "       Country          Region  Happiness Rank  Happiness Score  \\\n",
       "0  Switzerland  Western Europe               1            7.587   \n",
       "1      Iceland  Western Europe               2            7.561   \n",
       "2      Denmark  Western Europe               3            7.527   \n",
       "3       Norway  Western Europe               4            7.522   \n",
       "4       Canada   North America               5            7.427   \n",
       "\n",
       "   Standard Error  Economy (GDP per Capita)   Family  \\\n",
       "0         0.03411                   1.39651  1.34951   \n",
       "1         0.04884                   1.30232  1.40223   \n",
       "2         0.03328                   1.32548  1.36058   \n",
       "3         0.03880                   1.45900  1.33095   \n",
       "4         0.03553                   1.32629  1.32261   \n",
       "\n",
       "   Health (Life Expectancy)  Freedom  Trust (Government Corruption)  \\\n",
       "0                   0.94143  0.66557                        0.41978   \n",
       "1                   0.94784  0.62877                        0.14145   \n",
       "2                   0.87464  0.64938                        0.48357   \n",
       "3                   0.88521  0.66973                        0.36503   \n",
       "4                   0.90563  0.63297                        0.32957   \n",
       "\n",
       "   Generosity  Dystopia Residual  \n",
       "0     0.29678            2.51738  \n",
       "1     0.43630            2.70201  \n",
       "2     0.34139            2.49204  \n",
       "3     0.34699            2.46531  \n",
       "4     0.45811            2.45176  "
      ]
     },
     "execution_count": 3,
     "metadata": {},
     "output_type": "execute_result"
    }
   ],
   "source": [
    "data2015.head()"
   ]
  },
  {
   "cell_type": "code",
   "execution_count": 4,
   "metadata": {},
   "outputs": [
    {
     "data": {
      "text/html": [
       "<div>\n",
       "<style scoped>\n",
       "    .dataframe tbody tr th:only-of-type {\n",
       "        vertical-align: middle;\n",
       "    }\n",
       "\n",
       "    .dataframe tbody tr th {\n",
       "        vertical-align: top;\n",
       "    }\n",
       "\n",
       "    .dataframe thead th {\n",
       "        text-align: right;\n",
       "    }\n",
       "</style>\n",
       "<table border=\"1\" class=\"dataframe\">\n",
       "  <thead>\n",
       "    <tr style=\"text-align: right;\">\n",
       "      <th></th>\n",
       "      <th>Country</th>\n",
       "      <th>Region</th>\n",
       "      <th>Happiness Rank</th>\n",
       "      <th>Happiness Score</th>\n",
       "      <th>Lower Confidence Interval</th>\n",
       "      <th>Upper Confidence Interval</th>\n",
       "      <th>Economy (GDP per Capita)</th>\n",
       "      <th>Family</th>\n",
       "      <th>Health (Life Expectancy)</th>\n",
       "      <th>Freedom</th>\n",
       "      <th>Trust (Government Corruption)</th>\n",
       "      <th>Generosity</th>\n",
       "      <th>Dystopia Residual</th>\n",
       "    </tr>\n",
       "  </thead>\n",
       "  <tbody>\n",
       "    <tr>\n",
       "      <th>0</th>\n",
       "      <td>Denmark</td>\n",
       "      <td>Western Europe</td>\n",
       "      <td>1</td>\n",
       "      <td>7.526</td>\n",
       "      <td>7.460</td>\n",
       "      <td>7.592</td>\n",
       "      <td>1.44178</td>\n",
       "      <td>1.16374</td>\n",
       "      <td>0.79504</td>\n",
       "      <td>0.57941</td>\n",
       "      <td>0.44453</td>\n",
       "      <td>0.36171</td>\n",
       "      <td>2.73939</td>\n",
       "    </tr>\n",
       "    <tr>\n",
       "      <th>1</th>\n",
       "      <td>Switzerland</td>\n",
       "      <td>Western Europe</td>\n",
       "      <td>2</td>\n",
       "      <td>7.509</td>\n",
       "      <td>7.428</td>\n",
       "      <td>7.590</td>\n",
       "      <td>1.52733</td>\n",
       "      <td>1.14524</td>\n",
       "      <td>0.86303</td>\n",
       "      <td>0.58557</td>\n",
       "      <td>0.41203</td>\n",
       "      <td>0.28083</td>\n",
       "      <td>2.69463</td>\n",
       "    </tr>\n",
       "    <tr>\n",
       "      <th>2</th>\n",
       "      <td>Iceland</td>\n",
       "      <td>Western Europe</td>\n",
       "      <td>3</td>\n",
       "      <td>7.501</td>\n",
       "      <td>7.333</td>\n",
       "      <td>7.669</td>\n",
       "      <td>1.42666</td>\n",
       "      <td>1.18326</td>\n",
       "      <td>0.86733</td>\n",
       "      <td>0.56624</td>\n",
       "      <td>0.14975</td>\n",
       "      <td>0.47678</td>\n",
       "      <td>2.83137</td>\n",
       "    </tr>\n",
       "    <tr>\n",
       "      <th>3</th>\n",
       "      <td>Norway</td>\n",
       "      <td>Western Europe</td>\n",
       "      <td>4</td>\n",
       "      <td>7.498</td>\n",
       "      <td>7.421</td>\n",
       "      <td>7.575</td>\n",
       "      <td>1.57744</td>\n",
       "      <td>1.12690</td>\n",
       "      <td>0.79579</td>\n",
       "      <td>0.59609</td>\n",
       "      <td>0.35776</td>\n",
       "      <td>0.37895</td>\n",
       "      <td>2.66465</td>\n",
       "    </tr>\n",
       "    <tr>\n",
       "      <th>4</th>\n",
       "      <td>Finland</td>\n",
       "      <td>Western Europe</td>\n",
       "      <td>5</td>\n",
       "      <td>7.413</td>\n",
       "      <td>7.351</td>\n",
       "      <td>7.475</td>\n",
       "      <td>1.40598</td>\n",
       "      <td>1.13464</td>\n",
       "      <td>0.81091</td>\n",
       "      <td>0.57104</td>\n",
       "      <td>0.41004</td>\n",
       "      <td>0.25492</td>\n",
       "      <td>2.82596</td>\n",
       "    </tr>\n",
       "  </tbody>\n",
       "</table>\n",
       "</div>"
      ],
      "text/plain": [
       "       Country          Region  Happiness Rank  Happiness Score  \\\n",
       "0      Denmark  Western Europe               1            7.526   \n",
       "1  Switzerland  Western Europe               2            7.509   \n",
       "2      Iceland  Western Europe               3            7.501   \n",
       "3       Norway  Western Europe               4            7.498   \n",
       "4      Finland  Western Europe               5            7.413   \n",
       "\n",
       "   Lower Confidence Interval  Upper Confidence Interval  \\\n",
       "0                      7.460                      7.592   \n",
       "1                      7.428                      7.590   \n",
       "2                      7.333                      7.669   \n",
       "3                      7.421                      7.575   \n",
       "4                      7.351                      7.475   \n",
       "\n",
       "   Economy (GDP per Capita)   Family  Health (Life Expectancy)  Freedom  \\\n",
       "0                   1.44178  1.16374                   0.79504  0.57941   \n",
       "1                   1.52733  1.14524                   0.86303  0.58557   \n",
       "2                   1.42666  1.18326                   0.86733  0.56624   \n",
       "3                   1.57744  1.12690                   0.79579  0.59609   \n",
       "4                   1.40598  1.13464                   0.81091  0.57104   \n",
       "\n",
       "   Trust (Government Corruption)  Generosity  Dystopia Residual  \n",
       "0                        0.44453     0.36171            2.73939  \n",
       "1                        0.41203     0.28083            2.69463  \n",
       "2                        0.14975     0.47678            2.83137  \n",
       "3                        0.35776     0.37895            2.66465  \n",
       "4                        0.41004     0.25492            2.82596  "
      ]
     },
     "execution_count": 4,
     "metadata": {},
     "output_type": "execute_result"
    }
   ],
   "source": [
    "data2016.head()"
   ]
  },
  {
   "cell_type": "code",
   "execution_count": 5,
   "metadata": {},
   "outputs": [
    {
     "data": {
      "text/html": [
       "<div>\n",
       "<style scoped>\n",
       "    .dataframe tbody tr th:only-of-type {\n",
       "        vertical-align: middle;\n",
       "    }\n",
       "\n",
       "    .dataframe tbody tr th {\n",
       "        vertical-align: top;\n",
       "    }\n",
       "\n",
       "    .dataframe thead th {\n",
       "        text-align: right;\n",
       "    }\n",
       "</style>\n",
       "<table border=\"1\" class=\"dataframe\">\n",
       "  <thead>\n",
       "    <tr style=\"text-align: right;\">\n",
       "      <th></th>\n",
       "      <th>Country</th>\n",
       "      <th>Happiness.Rank</th>\n",
       "      <th>Happiness.Score</th>\n",
       "      <th>Whisker.high</th>\n",
       "      <th>Whisker.low</th>\n",
       "      <th>Economy..GDP.per.Capita.</th>\n",
       "      <th>Family</th>\n",
       "      <th>Health..Life.Expectancy.</th>\n",
       "      <th>Freedom</th>\n",
       "      <th>Generosity</th>\n",
       "      <th>Trust..Government.Corruption.</th>\n",
       "      <th>Dystopia.Residual</th>\n",
       "    </tr>\n",
       "  </thead>\n",
       "  <tbody>\n",
       "    <tr>\n",
       "      <th>0</th>\n",
       "      <td>Norway</td>\n",
       "      <td>1</td>\n",
       "      <td>7.537</td>\n",
       "      <td>7.594445</td>\n",
       "      <td>7.479556</td>\n",
       "      <td>1.616463</td>\n",
       "      <td>1.533524</td>\n",
       "      <td>0.796667</td>\n",
       "      <td>0.635423</td>\n",
       "      <td>0.362012</td>\n",
       "      <td>0.315964</td>\n",
       "      <td>2.277027</td>\n",
       "    </tr>\n",
       "    <tr>\n",
       "      <th>1</th>\n",
       "      <td>Denmark</td>\n",
       "      <td>2</td>\n",
       "      <td>7.522</td>\n",
       "      <td>7.581728</td>\n",
       "      <td>7.462272</td>\n",
       "      <td>1.482383</td>\n",
       "      <td>1.551122</td>\n",
       "      <td>0.792566</td>\n",
       "      <td>0.626007</td>\n",
       "      <td>0.355280</td>\n",
       "      <td>0.400770</td>\n",
       "      <td>2.313707</td>\n",
       "    </tr>\n",
       "    <tr>\n",
       "      <th>2</th>\n",
       "      <td>Iceland</td>\n",
       "      <td>3</td>\n",
       "      <td>7.504</td>\n",
       "      <td>7.622030</td>\n",
       "      <td>7.385970</td>\n",
       "      <td>1.480633</td>\n",
       "      <td>1.610574</td>\n",
       "      <td>0.833552</td>\n",
       "      <td>0.627163</td>\n",
       "      <td>0.475540</td>\n",
       "      <td>0.153527</td>\n",
       "      <td>2.322715</td>\n",
       "    </tr>\n",
       "    <tr>\n",
       "      <th>3</th>\n",
       "      <td>Switzerland</td>\n",
       "      <td>4</td>\n",
       "      <td>7.494</td>\n",
       "      <td>7.561772</td>\n",
       "      <td>7.426227</td>\n",
       "      <td>1.564980</td>\n",
       "      <td>1.516912</td>\n",
       "      <td>0.858131</td>\n",
       "      <td>0.620071</td>\n",
       "      <td>0.290549</td>\n",
       "      <td>0.367007</td>\n",
       "      <td>2.276716</td>\n",
       "    </tr>\n",
       "    <tr>\n",
       "      <th>4</th>\n",
       "      <td>Finland</td>\n",
       "      <td>5</td>\n",
       "      <td>7.469</td>\n",
       "      <td>7.527542</td>\n",
       "      <td>7.410458</td>\n",
       "      <td>1.443572</td>\n",
       "      <td>1.540247</td>\n",
       "      <td>0.809158</td>\n",
       "      <td>0.617951</td>\n",
       "      <td>0.245483</td>\n",
       "      <td>0.382612</td>\n",
       "      <td>2.430182</td>\n",
       "    </tr>\n",
       "  </tbody>\n",
       "</table>\n",
       "</div>"
      ],
      "text/plain": [
       "       Country  Happiness.Rank  Happiness.Score  Whisker.high  Whisker.low  \\\n",
       "0       Norway               1            7.537      7.594445     7.479556   \n",
       "1      Denmark               2            7.522      7.581728     7.462272   \n",
       "2      Iceland               3            7.504      7.622030     7.385970   \n",
       "3  Switzerland               4            7.494      7.561772     7.426227   \n",
       "4      Finland               5            7.469      7.527542     7.410458   \n",
       "\n",
       "   Economy..GDP.per.Capita.    Family  Health..Life.Expectancy.   Freedom  \\\n",
       "0                  1.616463  1.533524                  0.796667  0.635423   \n",
       "1                  1.482383  1.551122                  0.792566  0.626007   \n",
       "2                  1.480633  1.610574                  0.833552  0.627163   \n",
       "3                  1.564980  1.516912                  0.858131  0.620071   \n",
       "4                  1.443572  1.540247                  0.809158  0.617951   \n",
       "\n",
       "   Generosity  Trust..Government.Corruption.  Dystopia.Residual  \n",
       "0    0.362012                       0.315964           2.277027  \n",
       "1    0.355280                       0.400770           2.313707  \n",
       "2    0.475540                       0.153527           2.322715  \n",
       "3    0.290549                       0.367007           2.276716  \n",
       "4    0.245483                       0.382612           2.430182  "
      ]
     },
     "execution_count": 5,
     "metadata": {},
     "output_type": "execute_result"
    }
   ],
   "source": [
    "data2017.head()"
   ]
  },
  {
   "cell_type": "markdown",
   "metadata": {},
   "source": [
    "Podemos perceber que os dados possuem colunas diferentes e em posições diferentes. Vamos portanto, padronizar os datasets e uní-los em um só."
   ]
  },
  {
   "cell_type": "code",
   "execution_count": 6,
   "metadata": {},
   "outputs": [],
   "source": [
    "col=['Country','Region','HappinessRank', 'HappinessScore', 'Economy', 'Family', 'Health', 'Freedom', 'Corruption','Generosity','Dystopia','Year']\n",
    "\n",
    "i=0\n",
    "j=0\n",
    "\n",
    "for i in range(data2017.shape[0]):\n",
    "    \n",
    "    for j in range(data2015.shape[0]):\n",
    "    \n",
    "        if (data2017.Country[i] == data2015.Country[j]):\n",
    "    \n",
    "            data2017['Region'] = data2015.Region\n",
    "\n",
    "df2015=data2015.drop(['Standard Error'],axis=1)\n",
    "df2016=data2016.drop(['Lower Confidence Interval','Upper Confidence Interval'],axis=1)\n",
    "df2017=data2017.drop(['Whisker.high','Whisker.low'],axis=1)\n",
    "\n",
    "df2015['Year']=2015\n",
    "df2016['Year']=2016\n",
    "df2017['Year']=2017\n",
    "\n",
    "df2015.columns, df2016.columns=col,col\n",
    "\n",
    "d2017=df2017[['Country', 'Region', 'Happiness.Rank', 'Happiness.Score', 'Economy..GDP.per.Capita.', 'Family', 'Health..Life.Expectancy.', 'Freedom', 'Trust..Government.Corruption.','Generosity','Dystopia.Residual','Year']]\n",
    "d2017.columns=col\n",
    "\n",
    "data = pd.concat([df2015, df2016, d2017])\n"
   ]
  },
  {
   "cell_type": "code",
   "execution_count": 24,
   "metadata": {},
   "outputs": [
    {
     "data": {
      "text/html": [
       "<div>\n",
       "<style scoped>\n",
       "    .dataframe tbody tr th:only-of-type {\n",
       "        vertical-align: middle;\n",
       "    }\n",
       "\n",
       "    .dataframe tbody tr th {\n",
       "        vertical-align: top;\n",
       "    }\n",
       "\n",
       "    .dataframe thead th {\n",
       "        text-align: right;\n",
       "    }\n",
       "</style>\n",
       "<table border=\"1\" class=\"dataframe\">\n",
       "  <thead>\n",
       "    <tr style=\"text-align: right;\">\n",
       "      <th></th>\n",
       "      <th>Country</th>\n",
       "      <th>Region</th>\n",
       "      <th>HappinessRank</th>\n",
       "      <th>HappinessScore</th>\n",
       "      <th>Economy</th>\n",
       "      <th>Family</th>\n",
       "      <th>Health</th>\n",
       "      <th>Freedom</th>\n",
       "      <th>Corruption</th>\n",
       "      <th>Generosity</th>\n",
       "      <th>Dystopia</th>\n",
       "      <th>Year</th>\n",
       "    </tr>\n",
       "  </thead>\n",
       "  <tbody>\n",
       "    <tr>\n",
       "      <th>0</th>\n",
       "      <td>Switzerland</td>\n",
       "      <td>Western Europe</td>\n",
       "      <td>1</td>\n",
       "      <td>7.587</td>\n",
       "      <td>1.39651</td>\n",
       "      <td>1.34951</td>\n",
       "      <td>0.94143</td>\n",
       "      <td>0.66557</td>\n",
       "      <td>0.41978</td>\n",
       "      <td>0.29678</td>\n",
       "      <td>2.51738</td>\n",
       "      <td>2015</td>\n",
       "    </tr>\n",
       "    <tr>\n",
       "      <th>1</th>\n",
       "      <td>Iceland</td>\n",
       "      <td>Western Europe</td>\n",
       "      <td>2</td>\n",
       "      <td>7.561</td>\n",
       "      <td>1.30232</td>\n",
       "      <td>1.40223</td>\n",
       "      <td>0.94784</td>\n",
       "      <td>0.62877</td>\n",
       "      <td>0.14145</td>\n",
       "      <td>0.43630</td>\n",
       "      <td>2.70201</td>\n",
       "      <td>2015</td>\n",
       "    </tr>\n",
       "    <tr>\n",
       "      <th>2</th>\n",
       "      <td>Denmark</td>\n",
       "      <td>Western Europe</td>\n",
       "      <td>3</td>\n",
       "      <td>7.527</td>\n",
       "      <td>1.32548</td>\n",
       "      <td>1.36058</td>\n",
       "      <td>0.87464</td>\n",
       "      <td>0.64938</td>\n",
       "      <td>0.48357</td>\n",
       "      <td>0.34139</td>\n",
       "      <td>2.49204</td>\n",
       "      <td>2015</td>\n",
       "    </tr>\n",
       "    <tr>\n",
       "      <th>3</th>\n",
       "      <td>Norway</td>\n",
       "      <td>Western Europe</td>\n",
       "      <td>4</td>\n",
       "      <td>7.522</td>\n",
       "      <td>1.45900</td>\n",
       "      <td>1.33095</td>\n",
       "      <td>0.88521</td>\n",
       "      <td>0.66973</td>\n",
       "      <td>0.36503</td>\n",
       "      <td>0.34699</td>\n",
       "      <td>2.46531</td>\n",
       "      <td>2015</td>\n",
       "    </tr>\n",
       "    <tr>\n",
       "      <th>4</th>\n",
       "      <td>Canada</td>\n",
       "      <td>North America</td>\n",
       "      <td>5</td>\n",
       "      <td>7.427</td>\n",
       "      <td>1.32629</td>\n",
       "      <td>1.32261</td>\n",
       "      <td>0.90563</td>\n",
       "      <td>0.63297</td>\n",
       "      <td>0.32957</td>\n",
       "      <td>0.45811</td>\n",
       "      <td>2.45176</td>\n",
       "      <td>2015</td>\n",
       "    </tr>\n",
       "  </tbody>\n",
       "</table>\n",
       "</div>"
      ],
      "text/plain": [
       "       Country          Region  HappinessRank  HappinessScore  Economy  \\\n",
       "0  Switzerland  Western Europe              1           7.587  1.39651   \n",
       "1      Iceland  Western Europe              2           7.561  1.30232   \n",
       "2      Denmark  Western Europe              3           7.527  1.32548   \n",
       "3       Norway  Western Europe              4           7.522  1.45900   \n",
       "4       Canada   North America              5           7.427  1.32629   \n",
       "\n",
       "    Family   Health  Freedom  Corruption  Generosity  Dystopia  Year  \n",
       "0  1.34951  0.94143  0.66557     0.41978     0.29678   2.51738  2015  \n",
       "1  1.40223  0.94784  0.62877     0.14145     0.43630   2.70201  2015  \n",
       "2  1.36058  0.87464  0.64938     0.48357     0.34139   2.49204  2015  \n",
       "3  1.33095  0.88521  0.66973     0.36503     0.34699   2.46531  2015  \n",
       "4  1.32261  0.90563  0.63297     0.32957     0.45811   2.45176  2015  "
      ]
     },
     "execution_count": 24,
     "metadata": {},
     "output_type": "execute_result"
    }
   ],
   "source": [
    "data.head()"
   ]
  },
  {
   "cell_type": "markdown",
   "metadata": {},
   "source": [
    "Vamos verificar a presença de valores missing:"
   ]
  },
  {
   "cell_type": "code",
   "execution_count": 26,
   "metadata": {},
   "outputs": [
    {
     "data": {
      "text/plain": [
       "<matplotlib.axes._subplots.AxesSubplot at 0x7fcc91177590>"
      ]
     },
     "execution_count": 26,
     "metadata": {},
     "output_type": "execute_result"
    },
    {
     "data": {
      "image/png": "[encoded data removed]",
      "text/plain": [
       "<Figure size 1296x720 with 1 Axes>"
      ]
     },
     "metadata": {
      "needs_background": "light"
     },
     "output_type": "display_data"
    }
   ],
   "source": [
    "plt.figure(figsize=(18, 10))\n",
    "sns.heatmap(data.isnull(), cbar=False)"
   ]
  },
  {
   "cell_type": "markdown",
   "metadata": {},
   "source": [
    "Em caso de valores missing, o gráfico mostraria barras brancas. Como não há, todo ele está da cor preta."
   ]
  },
  {
   "cell_type": "markdown",
   "metadata": {},
   "source": [
    "### Etapa 2: Criação de uma função que realiza uma projeção multidimensional e plota um gráfico interativo.\n",
    "\n",
    "A projeção multidimensional é uma técnica capaz de simplificar um conjunto de dados, através de uma transformação que reduz as dimensões originais de um dataset, preservando a similaridade dos elementos. Cada linha do dataset será reduzida a um ponto, de forma que a visualização permita uma análise do padrão de similaridade entre grupos de elementos, como por exemplo: a densidade, o tamanho, fronteiras, outliers e distâncias. "
   ]
  },
  {
   "cell_type": "code",
   "execution_count": 44,
   "metadata": {},
   "outputs": [],
   "source": [
    "def projecaomultidimensional (ano):\n",
    "\n",
    "\n",
    "    dataano=data[data['Year']==ano]\n",
    "\n",
    "    mult=dataano[['HappinessRank', 'HappinessScore', 'Economy', 'Family', 'Health', 'Freedom', 'Corruption','Generosity','Dystopia']]\n",
    "\n",
    "    # Normalizando os dados\n",
    "\n",
    "    minmaxscaler = preprocessing.MinMaxScaler()\n",
    "\n",
    "    datanormalizado = minmaxscaler.fit_transform(mult)\n",
    "\n",
    "    dfnormalizado = pd.DataFrame(datanormalizado, columns=mult.columns)\n",
    "\n",
    "    # Aplicando o manifold nos dados normalizados\n",
    "\n",
    "    mani = manifold.MDS(random_state=25)\n",
    "\n",
    "    df2dim = mani.fit_transform(dfnormalizado) \n",
    "\n",
    "    source = ColumnDataSource(data=dict(x=df2dim[:,0], y=df2dim[:,1], p=data2015.Country, c=dataano.Region, h=dataano.HappinessRank ))\n",
    "\n",
    "    # Define a paleta de cores a ser aplicada nos pontos, de acordo com o continente\n",
    "\n",
    "    mapper = factor_cmap('c', palette=['purple', 'red', 'blue', 'orange', 'green', 'black', 'yellow', 'brown','salmon'], factors=data2015.Region.unique().tolist())\n",
    "\n",
    "    # Gera e exibe a figura da visualização\n",
    "\n",
    "    p = figure(plot_width=900, plot_height=500, tools=[HoverTool(tooltips=[('Posição', '@h'), ('País', '@p'), ('Região', '@c')])], title='Projeção Multidimensional')\n",
    "\n",
    "    p.circle('x', 'y', size=7, source=source,  legend='c', alpha=1, color=mapper)\n",
    "\n",
    "    output_notebook()\n",
    "\n",
    "    show(p)"
   ]
  },
  {
   "cell_type": "code",
   "execution_count": 45,
   "metadata": {},
   "outputs": [
    {
     "name": "stderr",
     "output_type": "stream",
     "text": [
      "/home/rafaelpavan95/anaconda3/lib/python3.7/site-packages/bokeh/models/sources.py:175: BokehUserWarning:\n",
      "\n",
      "ColumnDataSource's columns must be of the same length. Current lengths: ('c', 155), ('h', 155), ('p', 158), ('x', 155), ('y', 155)\n",
      "\n",
      "/home/rafaelpavan95/anaconda3/lib/python3.7/site-packages/bokeh/models/mappers.py:147: UserWarning:\n",
      "\n",
      "Palette length does not match number of factors. ['Southern Asia'] will be assigned to `nan_color` gray\n",
      "\n",
      "/home/rafaelpavan95/anaconda3/lib/python3.7/site-packages/bokeh/util/deprecation.py:75: BokehDeprecationWarning:\n",
      "\n",
      "'legend' keyword is deprecated, use explicit 'legend_label', 'legend_field', or 'legend_group' keywords instead\n",
      "\n"
     ]
    },
    {
     "data": {
      "text/html": [
       "\n",
       "    <div class=\"bk-root\">\n",
       "        <a href=\"https://bokeh.org\" target=\"_blank\" class=\"bk-logo bk-logo-small bk-logo-notebook\"></a>\n",
       "        <span id=\"1921\">Loading BokehJS ...</span>\n",
       "    </div>"
      ]
     },
     "metadata": {},
     "output_type": "display_data"
    },
    {
     "data": {
      "application/javascript": [
       "\n",
       "(function(root) {\n",
       "  function now() {\n",
       "    return new Date();\n",
       "  }\n",
       "\n",
       "  var force = true;\n",
       "\n",
       "  if (typeof root._bokeh_onload_callbacks === \"undefined\" || force === true) {\n",
       "    root._bokeh_onload_callbacks = [];\n",
       "    root._bokeh_is_loading = undefined;\n",
       "  }\n",
       "\n",
       "  var JS_MIME_TYPE = 'application/javascript';\n",
       "  var HTML_MIME_TYPE = 'text/html';\n",
       "  var EXEC_MIME_TYPE = 'application/vnd.bokehjs_exec.v0+json';\n",
       "  var CLASS_NAME = 'output_bokeh rendered_html';\n",
       "\n",
       "  /**\n",
       "   * Render data to the DOM node\n",
       "   */\n",
       "  function render(props, node) {\n",
       "    var script = document.createElement(\"script\");\n",
       "    node.appendChild(script);\n",
       "  }\n",
       "\n",
       "  /**\n",
       "   * Handle when an output is cleared or removed\n",
       "   */\n",
       "  function handleClearOutput(event, handle) {\n",
       "    var cell = handle.cell;\n",
       "\n",
       "    var id = cell.output_area._bokeh_element_id;\n",
       "    var server_id = cell.output_area._bokeh_server_id;\n",
       "    // Clean up Bokeh references\n",
       "    if (id != null && id in Bokeh.index) {\n",
       "      Bokeh.index[id].model.document.clear();\n",
       "      delete Bokeh.index[id];\n",
       "    }\n",
       "\n",
       "    if (server_id !== undefined) {\n",
       "      // Clean up Bokeh references\n",
       "      var cmd = \"from bokeh.io.state import curstate; print(curstate().uuid_to_server['\" + server_id + \"'].get_sessions()[0].document.roots[0]._id)\";\n",
       "      cell.notebook.kernel.execute(cmd, {\n",
       "        iopub: {\n",
       "          output: function(msg) {\n",
       "            var id = msg.content.text.trim();\n",
       "            if (id in Bokeh.index) {\n",
       "              Bokeh.index[id].model.document.clear();\n",
       "              delete Bokeh.index[id];\n",
       "            }\n",
       "          }\n",
       "        }\n",
       "      });\n",
       "      // Destroy server and session\n",
       "      var cmd = \"import bokeh.io.notebook as ion; ion.destroy_server('\" + server_id + \"')\";\n",
       "      cell.notebook.kernel.execute(cmd);\n",
       "    }\n",
       "  }\n",
       "\n",
       "  /**\n",
       "   * Handle when a new output is added\n",
       "   */\n",
       "  function handleAddOutput(event, handle) {\n",
       "    var output_area = handle.output_area;\n",
       "    var output = handle.output;\n",
       "\n",
       "    // limit handleAddOutput to display_data with EXEC_MIME_TYPE content only\n",
       "    if ((output.output_type != \"display_data\") || (!output.data.hasOwnProperty(EXEC_MIME_TYPE))) {\n",
       "      return\n",
       "    }\n",
       "\n",
       "    var toinsert = output_area.element.find(\".\" + CLASS_NAME.split(' ')[0]);\n",
       "\n",
       "    if (output.metadata[EXEC_MIME_TYPE][\"id\"] !== undefined) {\n",
       "      toinsert[toinsert.length - 1].firstChild.textContent = output.data[JS_MIME_TYPE];\n",
       "      // store reference to embed id on output_area\n",
       "      output_area._bokeh_element_id = output.metadata[EXEC_MIME_TYPE][\"id\"];\n",
       "    }\n",
       "    if (output.metadata[EXEC_MIME_TYPE][\"server_id\"] !== undefined) {\n",
       "      var bk_div = document.createElement(\"div\");\n",
       "      bk_div.innerHTML = output.data[HTML_MIME_TYPE];\n",
       "      var script_attrs = bk_div.children[0].attributes;\n",
       "      for (var i = 0; i < script_attrs.length; i++) {\n",
       "        toinsert[toinsert.length - 1].firstChild.setAttribute(script_attrs[i].name, script_attrs[i].value);\n",
       "        toinsert[toinsert.length - 1].firstChild.textContent = bk_div.children[0].textContent\n",
       "      }\n",
       "      // store reference to server id on output_area\n",
       "      output_area._bokeh_server_id = output.metadata[EXEC_MIME_TYPE][\"server_id\"];\n",
       "    }\n",
       "  }\n",
       "\n",
       "  function register_renderer(events, OutputArea) {\n",
       "\n",
       "    function append_mime(data, metadata, element) {\n",
       "      // create a DOM node to render to\n",
       "      var toinsert = this.create_output_subarea(\n",
       "        metadata,\n",
       "        CLASS_NAME,\n",
       "        EXEC_MIME_TYPE\n",
       "      );\n",
       "      this.keyboard_manager.register_events(toinsert);\n",
       "      // Render to node\n",
       "      var props = {data: data, metadata: metadata[EXEC_MIME_TYPE]};\n",
       "      render(props, toinsert[toinsert.length - 1]);\n",
       "      element.append(toinsert);\n",
       "      return toinsert\n",
       "    }\n",
       "\n",
       "    /* Handle when an output is cleared or removed */\n",
       "    events.on('clear_output.CodeCell', handleClearOutput);\n",
       "    events.on('delete.Cell', handleClearOutput);\n",
       "\n",
       "    /* Handle when a new output is added */\n",
       "    events.on('output_added.OutputArea', handleAddOutput);\n",
       "\n",
       "    /**\n",
       "     * Register the mime type and append_mime function with output_area\n",
       "     */\n",
       "    OutputArea.prototype.register_mime_type(EXEC_MIME_TYPE, append_mime, {\n",
       "      /* Is output safe? */\n",
       "      safe: true,\n",
       "      /* Index of renderer in `output_area.display_order` */\n",
       "      index: 0\n",
       "    });\n",
       "  }\n",
       "\n",
       "  // register the mime type if in Jupyter Notebook environment and previously unregistered\n",
       "  if (root.Jupyter !== undefined) {\n",
       "    var events = require('base/js/events');\n",
       "    var OutputArea = require('notebook/js/outputarea').OutputArea;\n",
       "\n",
       "    if (OutputArea.prototype.mime_types().indexOf(EXEC_MIME_TYPE) == -1) {\n",
       "      register_renderer(events, OutputArea);\n",
       "    }\n",
       "  }\n",
       "\n",
       "  \n",
       "  if (typeof (root._bokeh_timeout) === \"undefined\" || force === true) {\n",
       "    root._bokeh_timeout = Date.now() + 5000;\n",
       "    root._bokeh_failed_load = false;\n",
       "  }\n",
       "\n",
       "  var NB_LOAD_WARNING = {'data': {'text/html':\n",
       "     \"<div style='background-color: #fdd'>\\n\"+\n",
       "     \"<p>\\n\"+\n",
       "     \"BokehJS does not appear to have successfully loaded. If loading BokehJS from CDN, this \\n\"+\n",
       "     \"may be due to a slow or bad network connection. Possible fixes:\\n\"+\n",
       "     \"</p>\\n\"+\n",
       "     \"<ul>\\n\"+\n",
       "     \"<li>re-rerun `output_notebook()` to attempt to load from CDN again, or</li>\\n\"+\n",
       "     \"<li>use INLINE resources instead, as so:</li>\\n\"+\n",
       "     \"</ul>\\n\"+\n",
       "     \"<code>\\n\"+\n",
       "     \"from bokeh.resources import INLINE\\n\"+\n",
       "     \"output_notebook(resources=INLINE)\\n\"+\n",
       "     \"</code>\\n\"+\n",
       "     \"</div>\"}};\n",
       "\n",
       "  function display_loaded() {\n",
       "    var el = document.getElementById(\"1921\");\n",
       "    if (el != null) {\n",
       "      el.textContent = \"BokehJS is loading...\";\n",
       "    }\n",
       "    if (root.Bokeh !== undefined) {\n",
       "      if (el != null) {\n",
       "        el.textContent = \"BokehJS \" + root.Bokeh.version + \" successfully loaded.\";\n",
       "      }\n",
       "    } else if (Date.now() < root._bokeh_timeout) {\n",
       "      setTimeout(display_loaded, 100)\n",
       "    }\n",
       "  }\n",
       "\n",
       "\n",
       "  function run_callbacks() {\n",
       "    try {\n",
       "      root._bokeh_onload_callbacks.forEach(function(callback) {\n",
       "        if (callback != null)\n",
       "          callback();\n",
       "      });\n",
       "    } finally {\n",
       "      delete root._bokeh_onload_callbacks\n",
       "    }\n",
       "    console.debug(\"Bokeh: all callbacks have finished\");\n",
       "  }\n",
       "\n",
       "  function load_libs(css_urls, js_urls, callback) {\n",
       "    if (css_urls == null) css_urls = [];\n",
       "    if (js_urls == null) js_urls = [];\n",
       "\n",
       "    root._bokeh_onload_callbacks.push(callback);\n",
       "    if (root._bokeh_is_loading > 0) {\n",
       "      console.debug(\"Bokeh: BokehJS is being loaded, scheduling callback at\", now());\n",
       "      return null;\n",
       "    }\n",
       "    if (js_urls == null || js_urls.length === 0) {\n",
       "      run_callbacks();\n",
       "      return null;\n",
       "    }\n",
       "    console.debug(\"Bokeh: BokehJS not loaded, scheduling load and callback at\", now());\n",
       "    root._bokeh_is_loading = css_urls.length + js_urls.length;\n",
       "\n",
       "    function on_load() {\n",
       "      root._bokeh_is_loading--;\n",
       "      if (root._bokeh_is_loading === 0) {\n",
       "        console.debug(\"Bokeh: all BokehJS libraries/stylesheets loaded\");\n",
       "        run_callbacks()\n",
       "      }\n",
       "    }\n",
       "\n",
       "    function on_error() {\n",
       "      console.error(\"failed to load \" + url);\n",
       "    }\n",
       "\n",
       "    for (var i = 0; i < css_urls.length; i++) {\n",
       "      var url = css_urls[i];\n",
       "      const element = document.createElement(\"link\");\n",
       "      element.onload = on_load;\n",
       "      element.onerror = on_error;\n",
       "      element.rel = \"stylesheet\";\n",
       "      element.type = \"text/css\";\n",
       "      element.href = url;\n",
       "      console.debug(\"Bokeh: injecting link tag for BokehJS stylesheet: \", url);\n",
       "      document.body.appendChild(element);\n",
       "    }\n",
       "\n",
       "    const hashes = {\"https://cdn.bokeh.org/bokeh/release/bokeh-2.0.2.min.js\": \"ufR9RFnRs6lniiaFvtJziE0YeidtAgBRH6ux2oUItHw5WTvE1zuk9uzhUU/FJXDp\", \"https://cdn.bokeh.org/bokeh/release/bokeh-widgets-2.0.2.min.js\": \"8QM/PGWBT+IssZuRcDcjzwIh1mkOmJSoNMmyYDZbCfXJg3Ap1lEvdVgFuSAwhb/J\", \"https://cdn.bokeh.org/bokeh/release/bokeh-tables-2.0.2.min.js\": \"Jm8cH3Rg0P6UeZhVY5cLy1WzKajUT9KImCY+76hEqrcJt59/d8GPvFHjCkYgnSIn\", \"https://cdn.bokeh.org/bokeh/release/bokeh-gl-2.0.2.min.js\": \"Ozhzj+SI7ywm74aOI/UajcWz+C0NjsPunEVyVIrxzYkB+jA+2tUw8x5xJCbVtK5I\"};\n",
       "\n",
       "    for (var i = 0; i < js_urls.length; i++) {\n",
       "      var url = js_urls[i];\n",
       "      var element = document.createElement('script');\n",
       "      element.onload = on_load;\n",
       "      element.onerror = on_error;\n",
       "      element.async = false;\n",
       "      element.src = url;\n",
       "      if (url in hashes) {\n",
       "        element.crossOrigin = \"anonymous\";\n",
       "        element.integrity = \"sha384-\" + hashes[url];\n",
       "      }\n",
       "      console.debug(\"Bokeh: injecting script tag for BokehJS library: \", url);\n",
       "      document.head.appendChild(element);\n",
       "    }\n",
       "  };\n",
       "\n",
       "  function inject_raw_css(css) {\n",
       "    const element = document.createElement(\"style\");\n",
       "    element.appendChild(document.createTextNode(css));\n",
       "    document.body.appendChild(element);\n",
       "  }\n",
       "\n",
       "  \n",
       "  var js_urls = [\"https://cdn.bokeh.org/bokeh/release/bokeh-2.0.2.min.js\", \"https://cdn.bokeh.org/bokeh/release/bokeh-widgets-2.0.2.min.js\", \"https://cdn.bokeh.org/bokeh/release/bokeh-tables-2.0.2.min.js\", \"https://cdn.bokeh.org/bokeh/release/bokeh-gl-2.0.2.min.js\"];\n",
       "  var css_urls = [];\n",
       "  \n",
       "\n",
       "  var inline_js = [\n",
       "    function(Bokeh) {\n",
       "      Bokeh.set_log_level(\"info\");\n",
       "    },\n",
       "    function(Bokeh) {\n",
       "    \n",
       "    \n",
       "    }\n",
       "  ];\n",
       "\n",
       "  function run_inline_js() {\n",
       "    \n",
       "    if (root.Bokeh !== undefined || force === true) {\n",
       "      \n",
       "    for (var i = 0; i < inline_js.length; i++) {\n",
       "      inline_js[i].call(root, root.Bokeh);\n",
       "    }\n",
       "    if (force === true) {\n",
       "        display_loaded();\n",
       "      }} else if (Date.now() < root._bokeh_timeout) {\n",
       "      setTimeout(run_inline_js, 100);\n",
       "    } else if (!root._bokeh_failed_load) {\n",
       "      console.log(\"Bokeh: BokehJS failed to load within specified timeout.\");\n",
       "      root._bokeh_failed_load = true;\n",
       "    } else if (force !== true) {\n",
       "      var cell = $(document.getElementById(\"1921\")).parents('.cell').data().cell;\n",
       "      cell.output_area.append_execute_result(NB_LOAD_WARNING)\n",
       "    }\n",
       "\n",
       "  }\n",
       "\n",
       "  if (root._bokeh_is_loading === 0) {\n",
       "    console.debug(\"Bokeh: BokehJS loaded, going straight to plotting\");\n",
       "    run_inline_js();\n",
       "  } else {\n",
       "    load_libs(css_urls, js_urls, function() {\n",
       "      console.debug(\"Bokeh: BokehJS plotting callback run at\", now());\n",
       "      run_inline_js();\n",
       "    });\n",
       "  }\n",
       "}(window));"
      ],
      "application/vnd.bokehjs_load.v0+json": "\n(function(root) {\n  function now() {\n    return new Date();\n  }\n\n  var force = true;\n\n  if (typeof root._bokeh_onload_callbacks === \"undefined\" || force === true) {\n    root._bokeh_onload_callbacks = [];\n    root._bokeh_is_loading = undefined;\n  }\n\n  \n\n  \n  if (typeof (root._bokeh_timeout) === \"undefined\" || force === true) {\n    root._bokeh_timeout = Date.now() + 5000;\n    root._bokeh_failed_load = false;\n  }\n\n  var NB_LOAD_WARNING = {'data': {'text/html':\n     \"<div style='background-color: #fdd'>\\n\"+\n     \"<p>\\n\"+\n     \"BokehJS does not appear to have successfully loaded. If loading BokehJS from CDN, this \\n\"+\n     \"may be due to a slow or bad network connection. Possible fixes:\\n\"+\n     \"</p>\\n\"+\n     \"<ul>\\n\"+\n     \"<li>re-rerun `output_notebook()` to attempt to load from CDN again, or</li>\\n\"+\n     \"<li>use INLINE resources instead, as so:</li>\\n\"+\n     \"</ul>\\n\"+\n     \"<code>\\n\"+\n     \"from bokeh.resources import INLINE\\n\"+\n     \"output_notebook(resources=INLINE)\\n\"+\n     \"</code>\\n\"+\n     \"</div>\"}};\n\n  function display_loaded() {\n    var el = document.getElementById(\"1921\");\n    if (el != null) {\n      el.textContent = \"BokehJS is loading...\";\n    }\n    if (root.Bokeh !== undefined) {\n      if (el != null) {\n        el.textContent = \"BokehJS \" + root.Bokeh.version + \" successfully loaded.\";\n      }\n    } else if (Date.now() < root._bokeh_timeout) {\n      setTimeout(display_loaded, 100)\n    }\n  }\n\n\n  function run_callbacks() {\n    try {\n      root._bokeh_onload_callbacks.forEach(function(callback) {\n        if (callback != null)\n          callback();\n      });\n    } finally {\n      delete root._bokeh_onload_callbacks\n    }\n    console.debug(\"Bokeh: all callbacks have finished\");\n  }\n\n  function load_libs(css_urls, js_urls, callback) {\n    if (css_urls == null) css_urls = [];\n    if (js_urls == null) js_urls = [];\n\n    root._bokeh_onload_callbacks.push(callback);\n    if (root._bokeh_is_loading > 0) {\n      console.debug(\"Bokeh: BokehJS is being loaded, scheduling callback at\", now());\n      return null;\n    }\n    if (js_urls == null || js_urls.length === 0) {\n      run_callbacks();\n      return null;\n    }\n    console.debug(\"Bokeh: BokehJS not loaded, scheduling load and callback at\", now());\n    root._bokeh_is_loading = css_urls.length + js_urls.length;\n\n    function on_load() {\n      root._bokeh_is_loading--;\n      if (root._bokeh_is_loading === 0) {\n        console.debug(\"Bokeh: all BokehJS libraries/stylesheets loaded\");\n        run_callbacks()\n      }\n    }\n\n    function on_error() {\n      console.error(\"failed to load \" + url);\n    }\n\n    for (var i = 0; i < css_urls.length; i++) {\n      var url = css_urls[i];\n      const element = document.createElement(\"link\");\n      element.onload = on_load;\n      element.onerror = on_error;\n      element.rel = \"stylesheet\";\n      element.type = \"text/css\";\n      element.href = url;\n      console.debug(\"Bokeh: injecting link tag for BokehJS stylesheet: \", url);\n      document.body.appendChild(element);\n    }\n\n    const hashes = {\"https://cdn.bokeh.org/bokeh/release/bokeh-2.0.2.min.js\": \"ufR9RFnRs6lniiaFvtJziE0YeidtAgBRH6ux2oUItHw5WTvE1zuk9uzhUU/FJXDp\", \"https://cdn.bokeh.org/bokeh/release/bokeh-widgets-2.0.2.min.js\": \"8QM/PGWBT+IssZuRcDcjzwIh1mkOmJSoNMmyYDZbCfXJg3Ap1lEvdVgFuSAwhb/J\", \"https://cdn.bokeh.org/bokeh/release/bokeh-tables-2.0.2.min.js\": \"Jm8cH3Rg0P6UeZhVY5cLy1WzKajUT9KImCY+76hEqrcJt59/d8GPvFHjCkYgnSIn\", \"https://cdn.bokeh.org/bokeh/release/bokeh-gl-2.0.2.min.js\": \"Ozhzj+SI7ywm74aOI/UajcWz+C0NjsPunEVyVIrxzYkB+jA+2tUw8x5xJCbVtK5I\"};\n\n    for (var i = 0; i < js_urls.length; i++) {\n      var url = js_urls[i];\n      var element = document.createElement('script');\n      element.onload = on_load;\n      element.onerror = on_error;\n      element.async = false;\n      element.src = url;\n      if (url in hashes) {\n        element.crossOrigin = \"anonymous\";\n        element.integrity = \"sha384-\" + hashes[url];\n      }\n      console.debug(\"Bokeh: injecting script tag for BokehJS library: \", url);\n      document.head.appendChild(element);\n    }\n  };\n\n  function inject_raw_css(css) {\n    const element = document.createElement(\"style\");\n    element.appendChild(document.createTextNode(css));\n    document.body.appendChild(element);\n  }\n\n  \n  var js_urls = [\"https://cdn.bokeh.org/bokeh/release/bokeh-2.0.2.min.js\", \"https://cdn.bokeh.org/bokeh/release/bokeh-widgets-2.0.2.min.js\", \"https://cdn.bokeh.org/bokeh/release/bokeh-tables-2.0.2.min.js\", \"https://cdn.bokeh.org/bokeh/release/bokeh-gl-2.0.2.min.js\"];\n  var css_urls = [];\n  \n\n  var inline_js = [\n    function(Bokeh) {\n      Bokeh.set_log_level(\"info\");\n    },\n    function(Bokeh) {\n    \n    \n    }\n  ];\n\n  function run_inline_js() {\n    \n    if (root.Bokeh !== undefined || force === true) {\n      \n    for (var i = 0; i < inline_js.length; i++) {\n      inline_js[i].call(root, root.Bokeh);\n    }\n    if (force === true) {\n        display_loaded();\n      }} else if (Date.now() < root._bokeh_timeout) {\n      setTimeout(run_inline_js, 100);\n    } else if (!root._bokeh_failed_load) {\n      console.log(\"Bokeh: BokehJS failed to load within specified timeout.\");\n      root._bokeh_failed_load = true;\n    } else if (force !== true) {\n      var cell = $(document.getElementById(\"1921\")).parents('.cell').data().cell;\n      cell.output_area.append_execute_result(NB_LOAD_WARNING)\n    }\n\n  }\n\n  if (root._bokeh_is_loading === 0) {\n    console.debug(\"Bokeh: BokehJS loaded, going straight to plotting\");\n    run_inline_js();\n  } else {\n    load_libs(css_urls, js_urls, function() {\n      console.debug(\"Bokeh: BokehJS plotting callback run at\", now());\n      run_inline_js();\n    });\n  }\n}(window));"
     },
     "metadata": {},
     "output_type": "display_data"
    },
    {
     "data": {
      "text/html": [
       "\n",
       "\n",
       "\n",
       "\n",
       "\n",
       "\n",
       "  <div class=\"bk-root\" id=\"124de976-2a35-4d20-842d-7cef47127663\" data-root-id=\"1888\"></div>\n"
      ]
     },
     "metadata": {},
     "output_type": "display_data"
    },
    {
     "data": {
      "application/javascript": [
       "(function(root) {\n",
       "  function embed_document(root) {\n",
       "    \n",
       "  var docs_json = {\"0dd0eea1-cf85-4ca3-9145-72d88d782b81\":{\"roots\":{\"references\":[{\"attributes\":{\"below\":[{\"id\":\"1899\"}],\"center\":[{\"id\":\"1902\"},{\"id\":\"1906\"},{\"id\":\"1919\"}],\"left\":[{\"id\":\"1903\"}],\"plot_height\":500,\"plot_width\":900,\"renderers\":[{\"id\":\"1912\"}],\"title\":{\"id\":\"1889\"},\"toolbar\":{\"id\":\"1907\"},\"x_range\":{\"id\":\"1891\"},\"x_scale\":{\"id\":\"1895\"},\"y_range\":{\"id\":\"1893\"},\"y_scale\":{\"id\":\"1897\"}},\"id\":\"1888\",\"subtype\":\"Figure\",\"type\":\"Plot\"},{\"attributes\":{\"label\":{\"field\":\"c\"},\"renderers\":[{\"id\":\"1912\"}]},\"id\":\"1920\",\"type\":\"LegendItem\"},{\"attributes\":{},\"id\":\"1984\",\"type\":\"Selection\"},{\"attributes\":{\"fill_color\":{\"field\":\"c\",\"transform\":{\"id\":\"1886\"}},\"line_color\":{\"field\":\"c\",\"transform\":{\"id\":\"1886\"}},\"size\":{\"units\":\"screen\",\"value\":7},\"x\":{\"field\":\"x\"},\"y\":{\"field\":\"y\"}},\"id\":\"1910\",\"type\":\"Circle\"},{\"attributes\":{\"callback\":null,\"tooltips\":[[\"Posi\\u00e7\\u00e3o\",\"@h\"],[\"Pa\\u00eds\",\"@p\"],[\"Regi\\u00e3o\",\"@c\"]]},\"id\":\"1887\",\"type\":\"HoverTool\"},{\"attributes\":{},\"id\":\"1918\",\"type\":\"BasicTickFormatter\"},{\"attributes\":{\"active_drag\":\"auto\",\"active_inspect\":\"auto\",\"active_multi\":null,\"active_scroll\":\"auto\",\"active_tap\":\"auto\",\"tools\":[{\"id\":\"1887\"}]},\"id\":\"1907\",\"type\":\"Toolbar\"},{\"attributes\":{\"factors\":[\"Western Europe\",\"North America\",\"Australia and New Zealand\",\"Middle East and Northern Africa\",\"Latin America and Caribbean\",\"Southeastern Asia\",\"Central and Eastern Europe\",\"Eastern Asia\",\"Sub-Saharan Africa\",\"Southern Asia\"],\"palette\":[\"purple\",\"red\",\"blue\",\"orange\",\"green\",\"black\",\"yellow\",\"brown\",\"salmon\"]},\"id\":\"1886\",\"type\":\"CategoricalColorMapper\"},{\"attributes\":{\"axis\":{\"id\":\"1899\"},\"ticker\":null},\"id\":\"1902\",\"type\":\"Grid\"},{\"attributes\":{\"formatter\":{\"id\":\"1916\"},\"ticker\":{\"id\":\"1904\"}},\"id\":\"1903\",\"type\":\"LinearAxis\"},{\"attributes\":{\"formatter\":{\"id\":\"1918\"},\"ticker\":{\"id\":\"1900\"}},\"id\":\"1899\",\"type\":\"LinearAxis\"},{\"attributes\":{\"text\":\"Proje\\u00e7\\u00e3o Multidimensional\"},\"id\":\"1889\",\"type\":\"Title\"},{\"attributes\":{\"data\":{\"c\":[\"Western Europe\",\"Western Europe\",\"Western Europe\",\"Western Europe\",\"North America\",\"Western Europe\",\"Western Europe\",\"Western Europe\",\"Australia and New Zealand\",\"Australia and New Zealand\",\"Middle East and Northern Africa\",\"Latin America and Caribbean\",\"Western Europe\",\"Latin America and Caribbean\",\"North America\",\"Latin America and Caribbean\",\"Western Europe\",\"Western Europe\",\"Western Europe\",\"Middle East and Northern Africa\",\"Western Europe\",\"Middle East and Northern Africa\",\"Latin America and Caribbean\",\"Southeastern Asia\",\"Latin America and Caribbean\",\"Western Europe\",\"Latin America and Caribbean\",\"Middle East and Northern Africa\",\"Western Europe\",\"Latin America and Caribbean\",\"Central and Eastern Europe\",\"Latin America and Caribbean\",\"Latin America and Caribbean\",\"Southeastern Asia\",\"Middle East and Northern Africa\",\"Western Europe\",\"Western Europe\",\"Eastern Asia\",\"Middle East and Northern Africa\",\"Latin America and Caribbean\",\"Latin America and Caribbean\",\"Latin America and Caribbean\",\"Latin America and Caribbean\",\"Central and Eastern Europe\",\"Central and Eastern Europe\",\"Eastern Asia\",\"Eastern Asia\",\"Latin America and Caribbean\",\"Middle East and Northern Africa\",\"Western Europe\",\"Latin America and Caribbean\",\"Central and Eastern Europe\",\"Latin America and Caribbean\",\"Central and Eastern Europe\",\"Central and Eastern Europe\",\"Central and Eastern Europe\",\"Latin America and Caribbean\",\"Latin America and Caribbean\",\"Central and Eastern Europe\",\"Central and Eastern Europe\",\"Southeastern Asia\",\"Central and Eastern Europe\",\"Middle East and Northern Africa\",\"Central and Eastern Europe\",\"Latin America and Caribbean\",\"Western Europe\",\"Western Europe\",\"Middle East and Northern Africa\",\"Central and Eastern Europe\",\"Central and Eastern Europe\",\"Sub-Saharan Africa\",\"Eastern Asia\",\"Central and Eastern Europe\",\"Southeastern Asia\",\"Southeastern Asia\",\"Middle East and Northern Africa\",\"Central and Eastern Europe\",\"Sub-Saharan Africa\",\"Southern Asia\",\"Central and Eastern Europe\",\"Southern Asia\",\"Middle East and Northern Africa\",\"Central and Eastern Europe\",\"Eastern Asia\",\"Sub-Saharan Africa\",\"Central and Eastern Europe\",\"Central and Eastern Europe\",\"Western Europe\",\"Central and Eastern Europe\",\"Southeastern Asia\",\"Sub-Saharan Africa\",\"Middle East and Northern Africa\",\"Central and Eastern Europe\",\"Sub-Saharan Africa\",\"Central and Eastern Europe\",\"Central and Eastern Europe\",\"Sub-Saharan Africa\",\"Latin America and Caribbean\",\"Southeastern Asia\",\"Eastern Asia\",\"Sub-Saharan Africa\",\"Western Europe\",\"Middle East and Northern Africa\",\"Central and Eastern Europe\",\"Latin America and Caribbean\",\"Central and Eastern Europe\",\"Middle East and Northern Africa\",\"Middle East and Northern Africa\",\"Southern Asia\",\"Middle East and Northern Africa\",\"Central and Eastern Europe\",\"Middle East and Northern Africa\",\"Sub-Saharan Africa\",\"Sub-Saharan Africa\",\"Sub-Saharan Africa\",\"Sub-Saharan Africa\",\"Southern Asia\",\"Sub-Saharan Africa\",\"Latin America and Caribbean\",\"Sub-Saharan Africa\",\"Southern Asia\",\"Sub-Saharan Africa\",\"Sub-Saharan Africa\",\"Sub-Saharan Africa\",\"Sub-Saharan Africa\",\"Sub-Saharan Africa\",\"Central and Eastern Europe\",\"Sub-Saharan Africa\",\"Southeastern Asia\",\"Central and Eastern Europe\",\"Sub-Saharan Africa\",\"Southern Asia\",\"Sub-Saharan Africa\",\"Central and Eastern Europe\",\"Middle East and Northern Africa\",\"Middle East and Northern Africa\",\"Sub-Saharan Africa\",\"Sub-Saharan Africa\",\"Sub-Saharan Africa\",\"Sub-Saharan Africa\",\"Sub-Saharan Africa\",\"Sub-Saharan Africa\",\"Sub-Saharan Africa\",\"Sub-Saharan Africa\",\"Southeastern Asia\",\"Sub-Saharan Africa\",\"Sub-Saharan Africa\",\"Sub-Saharan Africa\",\"Sub-Saharan Africa\",\"Sub-Saharan Africa\",\"Sub-Saharan Africa\",\"Sub-Saharan Africa\",\"Southern Asia\",\"Sub-Saharan Africa\",\"Sub-Saharan Africa\"],\"h\":[1,2,3,4,5,6,7,8,9,10,11,12,13,14,15,16,17,18,19,20,21,22,23,24,25,26,27,28,29,30,31,32,33,34,35,36,37,38,39,40,41,42,43,44,45,46,47,48,49,50,51,52,53,54,55,56,57,58,59,60,61,62,63,64,65,66,67,68,69,70,71,72,73,74,75,76,77,78,79,80,81,82,83,84,85,86,87,88,89,90,91,92,93,94,95,96,97,98,99,100,101,102,103,104,105,106,107,108,109,110,111,112,113,114,115,116,117,118,119,120,121,122,123,124,125,126,127,128,129,130,131,132,133,134,135,136,137,138,139,140,141,142,143,144,145,146,147,148,149,150,151,152,153,154,155],\"p\":[\"Switzerland\",\"Iceland\",\"Denmark\",\"Norway\",\"Canada\",\"Finland\",\"Netherlands\",\"Sweden\",\"New Zealand\",\"Australia\",\"Israel\",\"Costa Rica\",\"Austria\",\"Mexico\",\"United States\",\"Brazil\",\"Luxembourg\",\"Ireland\",\"Belgium\",\"United Arab Emirates\",\"United Kingdom\",\"Oman\",\"Venezuela\",\"Singapore\",\"Panama\",\"Germany\",\"Chile\",\"Qatar\",\"France\",\"Argentina\",\"Czech Republic\",\"Uruguay\",\"Colombia\",\"Thailand\",\"Saudi Arabia\",\"Spain\",\"Malta\",\"Taiwan\",\"Kuwait\",\"Suriname\",\"Trinidad and Tobago\",\"El Salvador\",\"Guatemala\",\"Uzbekistan\",\"Slovakia\",\"Japan\",\"South Korea\",\"Ecuador\",\"Bahrain\",\"Italy\",\"Bolivia\",\"Moldova\",\"Paraguay\",\"Kazakhstan\",\"Slovenia\",\"Lithuania\",\"Nicaragua\",\"Peru\",\"Belarus\",\"Poland\",\"Malaysia\",\"Croatia\",\"Libya\",\"Russia\",\"Jamaica\",\"North Cyprus\",\"Cyprus\",\"Algeria\",\"Kosovo\",\"Turkmenistan\",\"Mauritius\",\"Hong Kong\",\"Estonia\",\"Indonesia\",\"Vietnam\",\"Turkey\",\"Kyrgyzstan\",\"Nigeria\",\"Bhutan\",\"Azerbaijan\",\"Pakistan\",\"Jordan\",\"Montenegro\",\"China\",\"Zambia\",\"Romania\",\"Serbia\",\"Portugal\",\"Latvia\",\"Philippines\",\"Somaliland region\",\"Morocco\",\"Macedonia\",\"Mozambique\",\"Albania\",\"Bosnia and Herzegovina\",\"Lesotho\",\"Dominican Republic\",\"Laos\",\"Mongolia\",\"Swaziland\",\"Greece\",\"Lebanon\",\"Hungary\",\"Honduras\",\"Tajikistan\",\"Tunisia\",\"Palestinian Territories\",\"Bangladesh\",\"Iran\",\"Ukraine\",\"Iraq\",\"South Africa\",\"Ghana\",\"Zimbabwe\",\"Liberia\",\"India\",\"Sudan\",\"Haiti\",\"Congo (Kinshasa)\",\"Nepal\",\"Ethiopia\",\"Sierra Leone\",\"Mauritania\",\"Kenya\",\"Djibouti\",\"Armenia\",\"Botswana\",\"Myanmar\",\"Georgia\",\"Malawi\",\"Sri Lanka\",\"Cameroon\",\"Bulgaria\",\"Egypt\",\"Yemen\",\"Angola\",\"Mali\",\"Congo (Brazzaville)\",\"Comoros\",\"Uganda\",\"Senegal\",\"Gabon\",\"Niger\",\"Cambodia\",\"Tanzania\",\"Madagascar\",\"Central African Republic\",\"Chad\",\"Guinea\",\"Ivory Coast\",\"Burkina Faso\",\"Afghanistan\",\"Rwanda\",\"Benin\",\"Syria\",\"Burundi\",\"Togo\"],\"x\":{\"__ndarray__\":\"VE+CYBq83L9gnbgiLxrjv78UMId8LMm/XO0DPW7f4L/YZylehZffv5Eh5eKG6Ni/PykCXvRy279A0Vyb0CDlv0roNPweSOO/+YvhSpha37+2bKHhRrTCPwBilt5ERbk/o3yoHAdb0r+gGBbjw47Bv2eKehLjZ+C/yan7ZAMM2b9hrM7UBhbTv6m1yVTCO+O/muULTW2M3r96HYUbaJi9P1Z0tNvaouK/ZK/pvP56yD8f5O23GtvFP6fi8ULzzcU/wWzqxlsOzT+irlbAlETtv9njMmIAVeG/v2K8ig32xr8VAjGX1TDTP8Hwfo33XH2/OiOYI0/hwr/z/0kfSxxgP+QuwFViBrQ/ZsY3C6GFgj/uU7becu7sv3GOVlLDR8k/TzA/+6da07+y/p18tL2dP6bxO5cEpNS/OWPchoIw0j+BSGqD5kPYv1ydOWe8LZe/fr1EWTsovD8QnKQddyiVP+itCOAGm9I/3APxWRiQt78nkSFwcoziv/5MvWP/sNY/PFgCAoZ00D+VrpItxmPOPyt5VV7WD9m/4QGLwL/I3T+qrQbJA1faP7eImawl9r0/YtYEU0Hr1j8xMnRPOSDhPzYetXiCSMU/uMz2cVK6xD/f/pr1N5XVvyXedH3Z0bS/LXxSieQ6zr+QRSrbOMnVvy7/Qk5MqLw/KDf/Q/+Kvb/4aPdD1q6RP8/fPMJ0+9K/Z/Jy3Rj5hD8RgjvJF5Shv0RZ4DF3Vsc/1FBOKZjnub9ONWiVfNzpv/KMMT+9G8K/R5X3opBV1D/uqrvbOp1avzv9h1AuBdw/ombG8+WDsr+r6arjYnXSP4ss1k9Zj84/IYY18DSltD8/NXpk6JLjP+qfCqcMrNm/xSfDbfE/3T9+shpbLSTSP7YV4W788tg//DTpwuOBpL9MAksDlgXPv2AGKNSfhd+/hLyD40C2yD/vtZivHhbZv824ljoeM9s/coqlwEBywz+s0Ws0ilm3P2mLypZayue/84nMr9r8yr+nkMFAluzaP4KGW4yD2ay/LHKg19hP2L/mAmVM+nTEv7c1UCYqW1U/Aj9m3zLey7+yUdM1oHbIv0tASf96LNM/7LZEO0/j0D+jN++2z+TIP1TE7HE/utO/XHAsGNr15D94JwGD+jXVP5v6XtByydw/+NMGw/6AwT8eI/sFWnqsP3Fbe68GHcC/jSRzWWpmqr9A4W7AJri1v743QdtQde0/UpbTXbRRwT+7XVsd4cyyP1PuPSnXDsE/ERsu2yqOo7/YTCjY48TBPzIJqTezeOO/K/Ee9Xly3D+nDLI9ZtebvyXXdwcLcOA/aR+Wdttntj/3I/mDNKnZv8f846FDIeA/FLMri9W10D95VCeLh3unP7PVNDiAP9a/lstPUWlF5D+vonnCgfy1P8vFMuxMddK//pBnBHAvoT8C9eXtr6nLP2DNJ6js8sg/xsaWCHZZuj8tyNOJDszgP9ylJCjllsk/ArzeWf5chT/K3GBN85noPxpvHcTcVeI/jDPbCYmv3b9OP8d7AbXDPzB1X4nRldg/SQ4h4yf35D9F/wsmXQnUP1a5zs/qCt0/aa0AHE6G0T9RelgteCTKP8yim5/8Msk/UNliyK5V6b/JzmDhSy3Bv1EbYamZb8i/1Jz740rM4T8VYGJs+MndPw==\",\"dtype\":\"float64\",\"shape\":[155]},\"y\":{\"__ndarray__\":\"DN/eY/MC7j+Wx6xc+N7tP5Y11ST9Ye4/MEwPGtbk7T/4XVRoQGjuP47BlWaMBew/mAp0zLhK6z8f4PwmJLbqP6WGHjCb/eo/nTa8wMuW6j9LFCY+CQnqP9iTjSXfuuk/J1JVLjrI5z+xi/gz2pDnP4mASJliQ+c/8Cmfef/25j+9bUhggqTmP8skaUCnMeY/ZqTbY/tP5D8I6yHPI5zkP6Xbm7muhOM/2ler284W4z/aGQdmP+TkP2eD1D57peM/9/n8LZNc4z/6HXpuourjP2jYC7/IPOA/mt53pZls4T+CyRmo+d7hP1+9PtskCuE/cHODWDQj4j8o8Eq6gCrlP1bT+9aYCuE/ju0piqdx4j9UUejls6PfP3L1wWCsod4/+/Fv/Xk33j8IERLOO5rbPzkuEs8HE9o/CIvCi1cV3D/JeskqTuDZPxQskjl8zdY/vusyxNvU1z9wq0uz5pHWP4hVkC8Tm9Y/+6GzRkrd1j9BMJoHapTJPxcZXSvLudw/VGg2eJ721T+0Da6RKAPTP3SuKg4nqtY/okPlUCyo1j/wkjZzaUzSPykOnSfUPNE/AiLlscw+2T/LY5aKXpPMP6Q2Tv6bcdI/zbsFgRsazD/uOQCEWLzCP9ALIuaX0Mw/jttS6zkd0j+x8oy6/Q/OPxxhVzL/w8g/Ef/ai+dxwz/7QU9Qe+3OP8lxTsB4kck/kNqM9wZawz9I6G1zktq5Pyj/rJck4cI/AYYHIOsFtT9TA+9goTXFP+NMub4uDXo/19qDUcwvtj/tHXaY2dqnP+FJdusu9MI/KAa1mwqCoT+7MYFOGY2wP27CsiKXUKG/j5hjsskCtz/gZ51SOC+6vycoOc7NbMa/lSAhODWdtD+q3XVNCuGaPzaMQ/xc8HC/9qz261qHnL8U3FJpE9yKv4cqqrLMBcK/3rKP9/Uncz+vDMG22qddvzYi+0rey5S/x+2vCj1Zub+yKcOpBkWovzrzt15+Dea/Rz6kuth7uL8lqVAxhsvXv/0MmCIZV8i/sUShDUfByr+demkADuDNv5U82OkpJ9G/gK4iDRYYyL8k3ufm9BzXv1QHztm0tsO/yQIwzTFOyr++3uB4zXjLv0JlIRtaKM+/Ax+Rjoyv3r82OQfoFMTev0iArjs+3ce/ju1sYD/oyr9Nc74ixXLXv5EyWWDPu9e/mf1nMy0O4L8ShDtAZ+jnv7ztkGO4rMy/M+Q3EfNY2b9oLTilyqbev0vD0M55IdS/Re6gG0rQ2b8alYGqQlLhv1N+LL8OJ9i/eNghfPxT0b/f19w7Zandv1iZCYEild6/I2go7kyB4L9mNLWip4/gvwn85wll2eO/Z0ekFK8P47+OCNZ5ki3nv1MF51Ybm+K/w/deEzL44L8afHaVDP7iv1FfWdj8+eS/Mx8e/VSk5b/Au60HIEvlv+HTzJSyWea/Xj8Qcpcv6r8ez4cnYv/nv69aGOI/iea/Quf0AAUA67+poMAZ6JzlvyEst02R0Om/4ht8rs9y5b/25Nw+CVTsv+1y8OrMBue/8eQvGXT+6r/48X9qdMjmv/tjfnlF3Ou/Ga3VxI5J678uPiDMtH7rv2Mcr+xRmO2/0z6D+sgq7b9DCRUhGRXxv2XnP4lBguu/7067QS+o8L8asi6Zc4T0vw==\",\"dtype\":\"float64\",\"shape\":[155]}},\"selected\":{\"id\":\"1984\"},\"selection_policy\":{\"id\":\"1983\"}},\"id\":\"1885\",\"type\":\"ColumnDataSource\"},{\"attributes\":{},\"id\":\"1983\",\"type\":\"UnionRenderers\"},{\"attributes\":{},\"id\":\"1904\",\"type\":\"BasicTicker\"},{\"attributes\":{\"source\":{\"id\":\"1885\"}},\"id\":\"1913\",\"type\":\"CDSView\"},{\"attributes\":{\"axis\":{\"id\":\"1903\"},\"dimension\":1,\"ticker\":null},\"id\":\"1906\",\"type\":\"Grid\"},{\"attributes\":{},\"id\":\"1900\",\"type\":\"BasicTicker\"},{\"attributes\":{\"data_source\":{\"id\":\"1885\"},\"glyph\":{\"id\":\"1910\"},\"hover_glyph\":null,\"muted_glyph\":null,\"nonselection_glyph\":{\"id\":\"1911\"},\"selection_glyph\":null,\"view\":{\"id\":\"1913\"}},\"id\":\"1912\",\"type\":\"GlyphRenderer\"},{\"attributes\":{},\"id\":\"1891\",\"type\":\"DataRange1d\"},{\"attributes\":{\"fill_alpha\":{\"value\":0.1},\"fill_color\":{\"field\":\"c\",\"transform\":{\"id\":\"1886\"}},\"line_alpha\":{\"value\":0.1},\"line_color\":{\"field\":\"c\",\"transform\":{\"id\":\"1886\"}},\"size\":{\"units\":\"screen\",\"value\":7},\"x\":{\"field\":\"x\"},\"y\":{\"field\":\"y\"}},\"id\":\"1911\",\"type\":\"Circle\"},{\"attributes\":{},\"id\":\"1916\",\"type\":\"BasicTickFormatter\"},{\"attributes\":{\"items\":[{\"id\":\"1920\"}]},\"id\":\"1919\",\"type\":\"Legend\"},{\"attributes\":{},\"id\":\"1895\",\"type\":\"LinearScale\"},{\"attributes\":{},\"id\":\"1893\",\"type\":\"DataRange1d\"},{\"attributes\":{},\"id\":\"1897\",\"type\":\"LinearScale\"}],\"root_ids\":[\"1888\"]},\"title\":\"Bokeh Application\",\"version\":\"2.0.2\"}};\n",
       "  var render_items = [{\"docid\":\"0dd0eea1-cf85-4ca3-9145-72d88d782b81\",\"root_ids\":[\"1888\"],\"roots\":{\"1888\":\"124de976-2a35-4d20-842d-7cef47127663\"}}];\n",
       "  root.Bokeh.embed.embed_items_notebook(docs_json, render_items);\n",
       "\n",
       "  }\n",
       "  if (root.Bokeh !== undefined) {\n",
       "    embed_document(root);\n",
       "  } else {\n",
       "    var attempts = 0;\n",
       "    var timer = setInterval(function(root) {\n",
       "      if (root.Bokeh !== undefined) {\n",
       "        clearInterval(timer);\n",
       "        embed_document(root);\n",
       "      } else {\n",
       "        attempts++;\n",
       "        if (attempts > 100) {\n",
       "          clearInterval(timer);\n",
       "          console.log(\"Bokeh: ERROR: Unable to run BokehJS code because BokehJS library is missing\");\n",
       "        }\n",
       "      }\n",
       "    }, 10, root)\n",
       "  }\n",
       "})(window);"
      ],
      "application/vnd.bokehjs_exec.v0+json": ""
     },
     "metadata": {
      "application/vnd.bokehjs_exec.v0+json": {
       "id": "1888"
      }
     },
     "output_type": "display_data"
    }
   ],
   "source": [
    "projecaomultidimensional(2017)"
   ]
  },
  {
   "cell_type": "markdown",
   "metadata": {},
   "source": [
    "### Análise da projeção multidimensional\n",
    "\n",
    "Investigando o gráfico acima, podemos notar como os países estão relacionados entre si. Percebe-se que na região superior esquerda, encontram-se países da 'Western Europe' e 'North America', enquando que na região inferior direita, notamos uma maior concentração de países da 'Sub-Saharan Africa'. Países da 'Latin America and Caribbean' estão localizados na região central, e alguns até possuem semelhanças com o grupo da 'Western Europe', como Chile e Brazil. No geral, países com alta pontuação encontram-se distribuídos na região superior esquerda, enquanto que os com baixa pontuação na região inferior direita."
   ]
  },
  {
   "cell_type": "markdown",
   "metadata": {},
   "source": [
    "### Etapa 3: Criação de uma função que realiza um plot de coordenadas paralelas.\n",
    "\n",
    "O plot de coordenadas paralelas permite visualizar o comportamento de cada linha do gráfico passando por cada atributo (coluna), ou seja, no caso específico iremos analisar do ponto de vista da posição do ranking. Poderemos ver como os primeiros e últimos colocados se comportam para cada tipo de atributo."
   ]
  },
  {
   "cell_type": "code",
   "execution_count": 57,
   "metadata": {},
   "outputs": [],
   "source": [
    "def coordenadasparalelas (ano):\n",
    "        \n",
    "    dataano2=data[data['Year']==ano]\n",
    "    \n",
    "    mult2=dataano2[['HappinessRank', 'HappinessScore', 'Economy', 'Family', 'Health', 'Freedom', 'Corruption','Generosity','Dystopia']]\n",
    "\n",
    "    minmaxscaler = preprocessing.MinMaxScaler()\n",
    "\n",
    "    datanormalizado2 = minmaxscaler.fit_transform(mult2)\n",
    "\n",
    "    dfnormalizado2 = pd.DataFrame(datanormalizado2, columns=mult2.columns)\n",
    "\n",
    "\n",
    "    fig = px.parallel_coordinates(dfnormalizado2, color='HappinessRank', dimensions=['Economy', 'Family', 'Health', 'Freedom', 'Corruption','Generosity','Dystopia'], color_continuous_scale=px.colors.diverging.Tealrose, color_continuous_midpoint=0.5)\n",
    "    \n",
    "    fig.show()\n"
   ]
  },
  {
   "cell_type": "code",
   "execution_count": 58,
   "metadata": {},
   "outputs": [
    {
     "data": {
      "application/vnd.plotly.v1+json": {
       "config": {
        "plotlyServerURL": "https://plot.ly"
       },
       "data": [
        {
         "dimensions": [
          {
           "label": "Economy",
           "values": [
            0.8640650170265682,
            0.7923937368732289,
            0.7914582951000163,
            0.8365449317917664,
            0.7716476392202433,
            0.8039192971187383,
            0.7906946483554538,
            0.7514067948247372,
            0.7988104978487369,
            0.7934798816296555,
            0.7351975897718226,
            0.5931829362166331,
            0.7949136946636463,
            0.8265381899838893,
            0.8208973741359277,
            0.7953552894516825,
            0.7824500800350735,
            0.9311393782753192,
            0.7706117075508222,
            0.6696640948390127,
            0.8693463759915167,
            0.59192512387594,
            0.7230634825961936,
            0.6335884132664507,
            0.6164234390611902,
            0.9045909290185765,
            0.7180374584531287,
            0.6508349518770021,
            0.4661203444566784,
            0.659488489223301,
            0.7648865235211325,
            0.6028915218898463,
            0.7663314242164722,
            0.7400167079586476,
            0.9999999999999999,
            0.5722909784669946,
            0.8181802598845844,
            0.7276998455374085,
            0.8728791980179818,
            0.7084765170979355,
            0.7956166141595811,
            0.6902069187006792,
            0.3941162751575207,
            0.5349790226545134,
            0.4863166470402307,
            0.6905129126649117,
            0.42038460165983466,
            0.745719589221261,
            0.6851622876776561,
            0.48534956719887323,
            0.757398528782038,
            0.702697487816314,
            0.5836457632389239,
            0.6739211832956107,
            0.7492538768581392,
            0.38961086132011896,
            0.6509013504006853,
            0.4456766404641003,
            0.6044459610326036,
            0.6866473333537225,
            0.7199786275769255,
            0.7169288834852473,
            0.5533698206602629,
            0.6357800743255646,
            0.7248037993719518,
            0.7060634851450792,
            0.6182268408066701,
            0.5889583460777688,
            0.6405261668807726,
            0.49847895128565795,
            0.8294330254277003,
            0.45847495590424253,
            0.571593539079545,
            0.5297362474766,
            0.6874254450357873,
            0.494759614404273,
            0.6535058038172146,
            0.5086069245631195,
            0.5779268877062032,
            0.3885486761077456,
            0.5321556835097153,
            0.6031921631899826,
            0.5992888603413474,
            0.46938779541607933,
            0.6166468490650671,
            0.5769690157215358,
            0.6892832655329209,
            0.5746243576803056,
            0.7030144419975117,
            0.525137608072836,
            0.3905209097999627,
            0.5690600084623061,
            0.012103698746648187,
            0.42151060464713097,
            0.4189494504598187,
            0.2804806819803832,
            0.4732909070981416,
            0.3187037695499678,
            0.2564833188046731,
            0.5490991593768486,
            0.5637791592748925,
            0.5384243541118644,
            0.38286421055851166,
            0.5290356857017587,
            0.6208469061601503,
            0.19693590248465553,
            0.30164406440529307,
            0.618395513447929,
            0.5325053590363156,
            0.31360580305254737,
            0.5155291936848749,
            0.29959896438694095,
            0.12524585614587777,
            0.19623545222364921,
            0.2562100780469397,
            0.3401851894333308,
            0.5894433994004984,
            0.6404918843416718,
            0.18133422480679404,
            0.5398057875043312,
            0.481405418425398,
            0.4234743314267647,
            0.3466266746191952,
            0.43242414510307636,
            0.5081409560367843,
            0.04923243434065366,
            0.2545377528496562,
            0.3223540634367157,
            0.3216678072938966,
            0.35253837350380224,
            0.35665868227605385,
            0.4782276883118197,
            0.20389016014661188,
            0.18721089241654915,
            0.08655564508523474,
            0.1247842207285737,
            0.234135675378764,
            0.20090518966273055,
            0.27850695081666293,
            0.458864617106094,
            0.21460582726698005,
            0.5998047552048273,
            0.23043260358679418,
            0.16346712763300036,
            0.19703710925552073,
            0.31627875782508436,
            0.21234547368528328,
            0.06363265797368525,
            0.13072183861462855,
            0.16327256785138955,
            0.19710960917905387,
            0.4154198145429325,
            0.273222819936379,
            0.04897597243250538,
            0
           ]
          },
          {
           "label": "Family",
           "values": [
            0.9521596355538667,
            0.9630861951993716,
            0.9999999999999999,
            0.9418454156382673,
            0.9563340264745732,
            0.8872235718746814,
            0.9197646211376439,
            0.9612691605046613,
            0.9177859340834374,
            0.9375799842403769,
            0.8545338231656432,
            0.8794402772249167,
            0.9064749319675987,
            0.8816239163777654,
            0.9675004740766343,
            0.9142829481778356,
            0.9079450506325707,
            0.9050088102016278,
            0.9291470454700567,
            0.7972467879365287,
            0.7863098659602914,
            0.8886930984064664,
            0.8902945226052023,
            0.8943712855670364,
            0.7518202544189033,
            0.8405787983456373,
            0.9241498114721974,
            0.8768475480578982,
            0.7795886361944062,
            0.8526106485975254,
            0.8616659933618902,
            0.885269754414244,
            0.859671984861521,
            0.9512701034767547,
            0.7912066593666512,
            0.8706106832373197,
            0.7988938063905112,
            0.8569792592028995,
            0.7821427286711032,
            0.9344862363822359,
            0.821514848405766,
            0.7976324146732371,
            0.799227917540126,
            0.7985779033363283,
            0.733977505156368,
            0.8976377142652414,
            0.9617497506009061,
            0.8971480201212807,
            0.9122725079815839,
            0.6714486849240076,
            0.8918173411236362,
            0.9149012092395881,
            0.7116825804927381,
            0.8721827968433952,
            0.7005418166675722,
            0.7772542991459815,
            0.7140878254900626,
            0.7622245525952697,
            0.9270913070851581,
            0.8595500794420664,
            0.7365717886729967,
            0.9018640648729257,
            0.7567304448385738,
            0.7510123627046715,
            0.702459662037024,
            0.9168601338487463,
            0.8971616391845303,
            0.8429071400455664,
            0.8306064613277098,
            0.935868127202645,
            0.7840626465067038,
            0.7785532173038513,
            0.7812058259391953,
            0.7693461384108388,
            0.8339468326573866,
            0.8495220078881052,
            0.6010174032384064,
            0.7064894244272982,
            0.7207600562348874,
            0.41767139332047143,
            0.7912984400103188,
            0.8887127128182176,
            0.7689038149216676,
            0.4811107293496888,
            0.7155214539475102,
            0.8707558298842847,
            0.7695483518935025,
            0.7013799071742394,
            0.848792425787576,
            0.6639470976369896,
            0.7102716011296136,
            0.7499767217641652,
            0.44776045607282217,
            0.7931900834863366,
            0.7548678158886231,
            0.7894472836408267,
            0.8320800587751381,
            0.8656780657732651,
            0.7322130222818224,
            0.9270056698232829,
            0.8598106180434516,
            0.5391565092386847,
            0.7175374453923672,
            0.6193266424257219,
            0.8906013956283116,
            0.6110467700837147,
            0.5873795397556008,
            0.4417997843747011,
            0.4990054753075288,
            0.456440832497809,
            0.6820368404543028,
            0.6630870241858288,
            0.5406153403648167,
            0.6974134290181107,
            0.7324667513515797,
            0.6228756296781308,
            0.6076176527929372,
            0.717520717629891,
            0.5368702089948887,
            0.7823151134445798,
            0.6255432636930442,
            0.4683874155710606,
            0.7897996769025281,
            0.5166135547871977,
            0.35429289897600946,
            0.7630965427267794,
            0.7956625356001594,
            0.5617748866546063,
            0.6247700117701268,
            0.7537738498294014,
            0.5424555052620663,
            0.8658636995267556,
            0.7015062535925853,
            0.6477690568073358,
            0.6165658954674728,
            0.31825226857325717,
            0.5922459123195832,
            0.6724906172796029,
            0.7389261102164149,
            0.6857256821633341,
            0.36107830117581424,
            0.7584593997220238,
            0.2702762131069569,
            0.5668912874559403,
            0.39765314673637686,
            0.5807757003936357,
            0.3733595135152183,
            0.541495102244378,
            0.49128117192631504,
            0.26815441486360914,
            0.5871863192956817,
            0.2459387805342734,
            0.6469679746247259,
            0.39103672454423166,
            0
           ]
          },
          {
           "label": "Health",
           "values": [
            0.8390446381787036,
            0.8347255110362377,
            0.8778923628794993,
            0.9037790024117632,
            0.8522002639198045,
            0.8538205565040551,
            0.8789513817434063,
            0.86020668507698,
            0.8750729997961688,
            0.8887767792254525,
            0.8830023329174882,
            0.7999108465565781,
            0.8586992624344791,
            0.8154742806879586,
            0.8528584626624284,
            0.8414503749849572,
            0.8616097124396545,
            0.8900434586940891,
            0.8481752389336759,
            0.8630713719077757,
            0.7654597764610177,
            0.6493494378693964,
            0.794576141039467,
            0.7321144300328457,
            0.7477458497854246,
            1,
            0.8656670039163605,
            0.7574750755484722,
            0.5689776902327763,
            0.7437196320691001,
            0.8893866410074822,
            0.6816684713511538,
            0.836219688096031,
            0.9362482571230001,
            0.7478712747818725,
            0.6266800311038919,
            0.6215408705637259,
            0.5476434507592955,
            0.6657301432864442,
            0.7506462557468403,
            0.6878760042709785,
            0.6517002463113402,
            0.6878369580508621,
            0.7221081769878522,
            0.6277233561494244,
            0.7366834655391052,
            0.5247779026517468,
            0.8985267836040274,
            0.5764652109792199,
            0.4741394122062376,
            0.9620676015620748,
            0.6624065064311064,
            0.6504366428311038,
            0.6725351084841467,
            0.9481003543099205,
            0.6208214031541679,
            0.7216048448449472,
            0.49882468994193874,
            0.46101062289455635,
            0.6382795205902587,
            0.8790457329794729,
            0.832895800139599,
            0.6636873731115545,
            0.671945836991824,
            0.889648727774336,
            0.7321473242761581,
            0.6716370454214887,
            0.5478390585115143,
            0.6715226060979018,
            0.610063541759587,
            0.9932279918208837,
            0.49290447944891325,
            0.6854027212704407,
            0.636750817130041,
            0.7243485637237131,
            0.6751211358758871,
            0.7385930893589062,
            0.5702542254193523,
            0.780854596207783,
            0.4234344427460943,
            0.5185357177809514,
            0.6499727963352294,
            0.7029700049071435,
            0.6295054833887523,
            0.5695419771662474,
            0.6054537651008275,
            0.8532968851725362,
            0.7741832167920837,
            0.83817789997752,
            0.7426982155940176,
            0.6135588689879414,
            0.6792557664895419,
            0.1200527120832793,
            0.6868606769974264,
            0.05994332397207526,
            0.5573874287116147,
            0.5222572557073549,
            0.5828986093330886,
            0.5309476762445621,
            0.5874543992566398,
            0.19703166805389538,
            0.6458314487673102,
            0.5957572452552722,
            0.5478582677452043,
            0.745890840453566,
            0.005860767213340953,
            0.13996122308580797,
            0.6733420846249605,
            0.770053294323941,
            0.5616064292928507,
            0.35662403744319077,
            0.3264779700535577,
            0.11232784587465018,
            0.41866851259450905,
            0.43113863234901506,
            0.2715513006754175,
            0.5278404257569712,
            0.37554654507179897,
            0.3722090976562911,
            0.6583842435570125,
            0.671437106175398,
            0.47965378055610014,
            0.3005282413714286,
            0.30538152331608603,
            0.68409919271626,
            0.2015887919520089,
            0.17837496662709473,
            0.051229656966401235,
            0.4526454410493417,
            0.30639616006163045,
            0.31136397549278383,
            0.6065387729279625,
            0.22920942578264603,
            0.2273259478642569,
            0.28278794908096705,
            0.3318505604482258,
            0.043322848397902784,
            0.20723046855652438,
            0,
            0.052521395539528046,
            0.19036148136839284,
            0.3599349623056455,
            0.2210973067587183,
            0.39518305866117026,
            0.2920730397840181,
            0.32657546005329946,
            0.1721825311605467,
            0.24214853960545366,
            0.20445570730501436,
            0.26025018206398726,
            0.3437887539227478,
            0.5271588746126057,
            0.38389910908704045,
            0.15967562509577143,
            0.0197712862163892
           ]
          },
          {
           "label": "Freedom",
           "values": [
            0.965323020252491,
            0.9510186008522602,
            0.9527746437296601,
            0.9420005107039578,
            0.9387802687172094,
            0.8893060040313022,
            0.9283739512006075,
            0.9328725829848658,
            0.9311437052115357,
            0.9139515446983687,
            0.6167708750242235,
            0.8813259830598414,
            0.8625405891929975,
            0.7683122683043008,
            0.870659333295907,
            0.8545575800600899,
            0.8200103589596858,
            0.9063867876177839,
            0.7720335253604359,
            0.5725727979513887,
            0.9241876275628015,
            0.6645721767760094,
            0.745836947801348,
            0.7512650336213448,
            0.6270123003591236,
            0.835308296766086,
            0.8944447362177848,
            0.880202706006568,
            0.8071579143719715,
            0.8355912666001433,
            0.7143533165875571,
            0.8814309309118972,
            0.5491337953815703,
            0.6210133851522799,
            0.9177853558356989,
            0.7253906341965201,
            0.6832533019183996,
            0.7878948674252372,
            0.7540274983293466,
            0.44940078307940096,
            0.8154166493111844,
            0.6111140137527866,
            0.6799130354468388,
            0.6915292414235246,
            0.6569744140939809,
            0.7904947489853834,
            1,
            0.3895954934903364,
            0.5678448474136115,
            0.8317667821485423,
            0.7681375966851335,
            0.35584088221392024,
            0.35447972939934325,
            0.4948098352164786,
            0.3918301402262674,
            0.3657114133279245,
            0.69427219253177,
            0.8488174124695088,
            0.6354314905130407,
            0.6645729917291315,
            0.7158444091499321,
            0.8698472777849218,
            0.6836366015368215,
            0.7462944534290512,
            0.5394793173952653,
            0.7278881938646714,
            0.4487669759262848,
            0.7075338794122924,
            0.4568799248069921,
            0.7193448591851568,
            0.7458710852821283,
            0.8890480260929889,
            0.31707702574708657,
            0.6356581833065005,
            0.26716882116125373,
            0.7205593657129313,
            0.3885648494419383,
            0.39542494372296016,
            0.7182509204442766,
            0.3573349629377435,
            0.6734893485626952,
            0.23394976991156938,
            0.2962240052591639,
            0.6200670887520171,
            0.6048714728376132,
            0.839484931516774,
            0.14543326303608084,
            0.43830850140986855,
            0.7572598740625779,
            0.31052577606174886,
            0.5287969118709703,
            0.49511073401922245,
            0.9147408720722817,
            0.8675377911872791,
            0.6000051160946006,
            0.7163959965880632,
            0.761927382243803,
            0.6911421386905336,
            0.6689051919757907,
            0.5987767100885771,
            0.7280633635107464,
            0.44007790046343714,
            0.3869526457905868,
            0.42857687452800713,
            0.4393958299754244,
            0.48416002781706685,
            0.6538391536077974,
            0.37876660014234564,
            0.5795661370678715,
            0.7267111751805126,
            0.7904361629109412,
            0.6878308936051544,
            0.7304095229988828,
            0.7816074135380014,
            0.5741329804284477,
            0.7012600533522653,
            0.43836858156503655,
            0.4744841799488939,
            0.6211068331102786,
            0.8525854840549904,
            0.30125889883534235,
            0.7139961407442158,
            0.14599048723330665,
            0.6608837894957976,
            0.4700503822130147,
            0.35846840426745763,
            0.4658023032386237,
            0.6801475155701324,
            0.9622136118903477,
            0.022781444343681997,
            0.6426542389333899,
            0.18682115536809707,
            0.6732804489124004,
            0.49277403704233697,
            0.5524640107646255,
            0.7093286778381652,
            0.24662720331631685,
            0.5110290775273962,
            0.5934858985944778,
            0,
            0.1613060936761445,
            0.7674855436371191,
            0.6471152923236847,
            0.28742445837310027,
            0.04613736272567408,
            0.378980978088628,
            0.22341471243926364,
            0.5057073430898322,
            0.5295681291755038,
            0.5779368194009555,
            0.8839271323248445,
            0.12387331598992374,
            0.5925082717741901,
            0.0910001897029769,
            0.4114585578227354
           ]
          },
          {
           "label": "Corruption",
           "values": [
            0.6805051405737153,
            0.8631560380559574,
            0.3306568711975875,
            0.7904396548714013,
            0.824047227448435,
            0.6087811458893886,
            0.6189246131347274,
            0.8244890877702514,
            0.8278963674511456,
            0.6486725832987581,
            0.18358964205976216,
            0.21560394359695403,
            0.4761073851522599,
            0.29213119554411726,
            0.6426516266416343,
            0.5960096880635576,
            0.5413287030000291,
            0.6866876548179974,
            0.571664044431481,
            0.17722722891702358,
            0.6988673766899034,
            0.23926534238654842,
            0.07941483707138769,
            0.12866441106514775,
            0.28596142233322847,
            0.9999999999999999,
            0.3296650924697354,
            0.3834996492846012,
            0.16631915524830435,
            0.15288118411890836,
            0.37152603047680804,
            0.06808573162158875,
            0.13747181888810375,
            0.15273079499426928,
            0.946138035521358,
            0.10051251207991178,
            0.5889030156389287,
            0.01930791685451935,
            0.4633985413217701,
            0.05214397091732356,
            0.5536029716839679,
            0.14128711652377873,
            0.2814684268848247,
            0.30181412417687115,
            0.19379593190678238,
            0.12773381818153803,
            0.5309586250826719,
            0.060365327309124514,
            0.07099359970073651,
            0.2080108814201969,
            0.35269866640855,
            0.02555555438771657,
            0.31465358766960616,
            0.15903831257625364,
            0.13629465331038362,
            0.021734044695930158,
            0.009450413799559734,
            0.1302535260248282,
            0.558401880306945,
            0.25690477358060454,
            0.33459131514679785,
            0.0971962569732285,
            0.10133167708457416,
            0.09084826173792565,
            0.08881603481838792,
            0.39467122485427025,
            0.33665991980273596,
            0.19945866333786566,
            0.21466704438321313,
            0.19613264384979714,
            0.6330579815224852,
            0.21393544590150793,
            0.08809626271150756,
            0.25802555125990556,
            0.07890657574682357,
            0.11903263912566589,
            0.09283305478503136,
            0.12377913941732967,
            0.0490930269704248,
            0.2678138742343834,
            0.03298918515731872,
            0.1388973543837883,
            0.1899046213300687,
            0.18901940834877218,
            0.3898007161166824,
            0.24540887933849725,
            0.09323508734251189,
            0.080795177201137,
            0.0341787327248275,
            0,
            0.15796731157905114,
            0.129822922422062,
            0.6082394754571117,
            0.1887395388734384,
            0.05625916022533083,
            0.3152588669890027,
            0.37341693462418385,
            0.08494188612481564,
            0.15717062791920494,
            0.07086310038830299,
            0.15616687839675295,
            0.1867794416076833,
            0.19229184810069372,
            0.24634815345518882,
            0.023802165946792908,
            0.1531207925705847,
            0.11050133784059957,
            0.10501885833408643,
            0.08585730690883654,
            0.26645656905858367,
            0.2006147115353015,
            0.1392208386308645,
            0.38645999790494967,
            0.4066617247289776,
            0.24867222064465788,
            0.16845194647045755,
            0.23091526384786615,
            0.1637852942671638,
            0.3563492131753961,
            0.1586317709124967,
            0.057449869168522044,
            0.1986330796765818,
            0.29497029574088646,
            0.17147705933611562,
            0.5420254481762794,
            0.12974444632154475,
            0.22607901468999406,
            0.28011973875554014,
            0.14668276765284602,
            0.19350853655655995,
            0.05456804880027601,
            0.049599579327663616,
            0.12291355147865293,
            0.2591559087842132,
            0.29845061973413384,
            0.1566022719220229,
            0.1154016451915532,
            0.2054141336508085,
            0.2564993391351145,
            0.150159737898008,
            0.13171829555911121,
            0.21232295098508394,
            0.1312254871503628,
            0.14480044845870077,
            0.21509901997383227,
            0.12226248306758364,
            0.25154330179804596,
            0.08388454884289594,
            0.2389312031694802,
            0.2060379307945576,
            0.980427269431584,
            0.32596293970365287,
            0.14222269991291148,
            0.18123311251442908,
            0.12182668035295416
           ]
          },
          {
           "label": "Generosity",
           "values": [
            0.4319567673226291,
            0.42392437489011825,
            0.567419538101163,
            0.34668642120289817,
            0.2929125978409976,
            0.5613933590734025,
            0.5196905274381517,
            0.5966113175513252,
            0.4598623967395912,
            0.5699957142556402,
            0.39385805751232794,
            0.25607873735968534,
            0.3776180663540766,
            0.4684290847994195,
            0.5105250015504345,
            0.40123987167517017,
            0.27623219061989535,
            0.33789449330923177,
            0.5879832521701825,
            0.38977699905153124,
            0.430679685201906,
            0.19371758310190598,
            0.105129901224474,
            0.13060530342728738,
            0.14436704299570197,
            0.412810207951769,
            0.6857745007171824,
            0.20892747718299878,
            0.33826129925903403,
            0.2512387301850105,
            0.1548337343128665,
            0.6826632466056844,
            0.30827840667603224,
            0.22686935549118648,
            0.3943248594224639,
            0.1778056192324522,
            0.17613696331471052,
            0.38814712179479516,
            0.2723977615982508,
            0.16292629501169512,
            0.20602983464110353,
            0.4971021085350174,
            0.35996081381634126,
            0.17911575478316322,
            0.09337824225877642,
            0.18908323973825197,
            0.4963560149205918,
            0.20617440561433972,
            0.062361736560002407,
            0.28638915938531123,
            0.14386868119410234,
            0.012128574082142308,
            0.08285252949951945,
            0.1826504270666732,
            0.2466060048214263,
            0.249117425412686,
            0.15931735474697775,
            0.2691414031069014,
            0.29821309494751524,
            0.2409860504924122,
            0.3184030687807205,
            0.2895314222014361,
            0.15132260304135586,
            0.43066990608060807,
            0.3236634537096935,
            0.11799754462266387,
            0.18511168965578087,
            0.1814558807297121,
            0.05571462333527345,
            0.26745889639735787,
            0.4468164799601271,
            0.23090222955431092,
            0.2626564943891315,
            0.20543558411011595,
            0.09354967914525215,
            0.2789944723427952,
            0.2959197309809959,
            0.3817455311904895,
            0.0343726223400079,
            0.37639347144439617,
            0.7298922774670262,
            0.07758209874593967,
            0.23614949268052327,
            0.03843325354992774,
            0.05401584772393256,
            0.2230919831972644,
            0,
            0.31554539617460625,
            0.11347754585732235,
            0.3924081160874864,
            0.28182302094765943,
            0.3027902215614617,
            0.34797751413740835,
            0.28036632303901227,
            0.2755685972287888,
            0.2971065784824618,
            0.5656468145525836,
            0.5113865599170677,
            0.47023964465731377,
            0.4038590404029196,
            0.16628864139770197,
            0.05929463073611252,
            0.13623261876760598,
            0.15348437559563724,
            0.13504480224411938,
            0.3496594518798959,
            0.2819537766895333,
            0.46206227230649577,
            0.24020869925027183,
            0.20553687802654913,
            0.09203678684957818,
            0.530811948706481,
            0.38448592546190163,
            0.9999999999999999,
            0.21891699183134014,
            0.29780162508370894,
            0.2382092601095483,
            0.052245168900715754,
            0.37305811543317435,
            0.5857035078525985,
            0.09961885963639587,
            0.276274134160156,
            0.24087341279527227,
            0.14420201587873283,
            0.06444388039658137,
            0.29407366402267626,
            0.21878013747382066,
            0.24011864243322129,
            0.4604873003707959,
            0.21754307862954061,
            0.3065643222948035,
            0.3222401470552249,
            0.38870744766498777,
            0.2993343512153993,
            0.2728560112223058,
            0.34265479175521235,
            0.2578692944694699,
            0.225687984297647,
            0.1879273831611927,
            0.11684690654033311,
            0.37212764093171813,
            0.11854360186587047,
            0.24812626701851587,
            0.24906182666304819,
            0.5837230402071946,
            0.12424328270380025,
            0.3408653903597635,
            0.318050095842501,
            0.31598012256688335,
            0.23493853520000083,
            0.30159112348804107,
            0.5890446957761589,
            0.42270237589263776,
            0.24393418886064894,
            0.33514474664181404
           ]
          },
          {
           "label": "Dystopia",
           "values": [
            0.6932154850493775,
            0.7066046982953795,
            0.7098927792499501,
            0.6931021749704285,
            0.7491201716047211,
            0.6997046192481089,
            0.6604504223585337,
            0.60905255281429,
            0.6276984138242492,
            0.6158983265702633,
            0.8847530323282702,
            0.9201169165072682,
            0.6426527334141927,
            0.6717109378079971,
            0.5095525531188847,
            0.5978513902633211,
            0.6374343778428164,
            0.45320907284767636,
            0.4841012992105798,
            0.778104402444679,
            0.4952563370750312,
            0.8728934181203718,
            0.757033949422802,
            0.8162196676881686,
            0.8976738624368641,
            0.3060509583796072,
            0.4303408013842271,
            0.6550280738339631,
            0.9183837596545272,
            0.704229363967551,
            0.5942686334813181,
            0.6065163912776306,
            0.6383093544432381,
            0.5657251109668573,
            0.2801718762469428,
            0.8169726314386048,
            0.6159782180084181,
            0.6115314501175018,
            0.4608427954936694,
            0.6277855285623655,
            0.4665824470503834,
            0.5937189664623943,
            0.7796903084114128,
            0.6980797248671158,
            0.8529365716808521,
            0.5182596755450324,
            0.5252647100110508,
            0.5239500694176533,
            0.6671459862863494,
            0.8227718969769451,
            0.359658461491066,
            0.6754805430842419,
            0.7992821606334866,
            0.5897790479568814,
            0.548430529216376,
            0.8869617956183813,
            0.6566421767788653,
            0.7539010388758864,
            0.5311036601853363,
            0.5135763663372279,
            0.4275282398393198,
            0.3414416470934094,
            0.6677526564555887,
            0.48170690581417325,
            0.4538431567456948,
            0.35757240727262635,
            0.49106934689967835,
            0.5318707224248564,
            0.5480289833605632,
            0.4772352479980784,
            0.06450624436876334,
            0.5820951973496915,
            0.5727797512278079,
            0.5158701557004053,
            0.48859680261932464,
            0.4505858836006112,
            0.5389817566421511,
            0.5959426114909825,
            0.5062927561702009,
            0.8813700041416501,
            0.3838423308527234,
            0.5152449486288488,
            0.4932443434381489,
            0.7586135893943848,
            0.5053959356144615,
            0.34368574363394383,
            0.5005557154447979,
            0.4807906780790168,
            0.2663807690342886,
            0.5527357900501748,
            0.6161174623450671,
            0.4524634194249166,
            1,
            0.39583022390576544,
            0.7254701302186926,
            0.5369949140135761,
            0.2782445605722873,
            0.42298939663079366,
            0.5523957727856177,
            0.2676983685698363,
            0.4135665583142654,
            0.5520344337320107,
            0.5478874763034425,
            0.4833776637985517,
            0.22566511580385795,
            0.8360967097172449,
            0.7138825646335236,
            0.40912292342092477,
            0.40609566451444273,
            0.5843332889782107,
            0.40297424162530054,
            0.46503213541720484,
            0.7219149612208864,
            0.26915773624564077,
            0.5153115248273086,
            0.5288389380774348,
            0.34348209879159597,
            0.34494546974207596,
            0.5978418172151769,
            0.015139427529980432,
            0.41743232921051016,
            0.41656283535584276,
            0.46493544763094413,
            0.49139883381127686,
            0.40963499446895374,
            0.6742095904014689,
            0.4709778685921598,
            0.5355037812234742,
            0.24274874238431243,
            0.4778675913418931,
            0.438007942671018,
            0.15932006294192147,
            0.4192076074750897,
            0.4925221004694889,
            0.5460963589955712,
            0.6219486670531267,
            0.6180983870893342,
            0.4453458581293424,
            0.38397313350146417,
            0.4513731362689451,
            0.6471405783844217,
            0,
            0.5503479672459033,
            0.44047004362612013,
            0.48155495543180443,
            0.3532257212486785,
            0.5481346350009968,
            0.47283765076354106,
            0.42867961644799296,
            0.5326803412147654,
            0.059187197736443986,
            0.24954995795256135,
            0.08877914307816859,
            0.47639229759508644,
            0.6161881288459168
           ]
          }
         ],
         "domain": {
          "x": [
           0,
           1
          ],
          "y": [
           0,
           1
          ]
         },
         "line": {
          "color": [
           0,
           0.006493506493506494,
           0.012987012987012986,
           0.01948051948051948,
           0.025974025974025976,
           0.032467532467532464,
           0.03896103896103896,
           0.045454545454545456,
           0.05194805194805195,
           0.05844155844155845,
           0.06493506493506494,
           0.07142857142857142,
           0.07792207792207792,
           0.08441558441558442,
           0.09090909090909091,
           0.09740259740259741,
           0.1038961038961039,
           0.1103896103896104,
           0.1168831168831169,
           0.12337662337662339,
           0.12987012987012989,
           0.13636363636363638,
           0.14285714285714288,
           0.14935064935064934,
           0.15584415584415584,
           0.16233766233766234,
           0.16883116883116883,
           0.17532467532467533,
           0.18181818181818182,
           0.18831168831168832,
           0.19480519480519481,
           0.2012987012987013,
           0.2077922077922078,
           0.2142857142857143,
           0.2207792207792208,
           0.2272727272727273,
           0.2337662337662338,
           0.24025974025974028,
           0.24675324675324678,
           0.2532467532467533,
           0.25974025974025977,
           0.26623376623376627,
           0.27272727272727276,
           0.27922077922077926,
           0.28571428571428575,
           0.29220779220779225,
           0.29870129870129875,
           0.3051948051948052,
           0.3116883116883117,
           0.3181818181818182,
           0.3246753246753247,
           0.33116883116883117,
           0.33766233766233766,
           0.34415584415584416,
           0.35064935064935066,
           0.35714285714285715,
           0.36363636363636365,
           0.37012987012987014,
           0.37662337662337664,
           0.38311688311688313,
           0.38961038961038963,
           0.3961038961038961,
           0.4025974025974026,
           0.4090909090909091,
           0.4155844155844156,
           0.4220779220779221,
           0.4285714285714286,
           0.4350649350649351,
           0.4415584415584416,
           0.4480519480519481,
           0.4545454545454546,
           0.4610389610389611,
           0.4675324675324676,
           0.4740259740259741,
           0.48051948051948057,
           0.48701298701298706,
           0.4935064935064935,
           0.5000000000000001,
           0.5064935064935066,
           0.5129870129870131,
           0.5194805194805195,
           0.5259740259740261,
           0.5324675324675325,
           0.5389610389610391,
           0.5454545454545455,
           0.5519480519480521,
           0.5584415584415585,
           0.5649350649350651,
           0.5714285714285715,
           0.5779220779220781,
           0.5844155844155845,
           0.590909090909091,
           0.5974025974025975,
           0.603896103896104,
           0.6103896103896105,
           0.6168831168831169,
           0.6233766233766235,
           0.6298701298701299,
           0.6363636363636365,
           0.6428571428571429,
           0.6493506493506495,
           0.6558441558441559,
           0.6623376623376624,
           0.6688311688311689,
           0.6753246753246754,
           0.6818181818181819,
           0.6883116883116884,
           0.6948051948051949,
           0.7012987012987014,
           0.7077922077922079,
           0.7142857142857144,
           0.7207792207792209,
           0.7272727272727274,
           0.7337662337662338,
           0.7402597402597404,
           0.7467532467532468,
           0.7532467532467534,
           0.7597402597402598,
           0.7662337662337664,
           0.7727272727272728,
           0.7792207792207794,
           0.7857142857142858,
           0.7922077922077924,
           0.7987012987012988,
           0.8051948051948054,
           0.8116883116883118,
           0.8181818181818183,
           0.8246753246753248,
           0.8311688311688312,
           0.8376623376623378,
           0.8441558441558442,
           0.8506493506493508,
           0.8571428571428572,
           0.8636363636363638,
           0.8701298701298702,
           0.8766233766233767,
           0.8831168831168832,
           0.8896103896103897,
           0.8961038961038962,
           0.9025974025974027,
           0.9090909090909092,
           0.9155844155844157,
           0.9220779220779222,
           0.9285714285714287,
           0.9350649350649352,
           0.9415584415584417,
           0.9480519480519481,
           0.9545454545454547,
           0.9610389610389611,
           0.9675324675324677,
           0.9740259740259741,
           0.9805194805194807,
           0.9870129870129871,
           0.9935064935064936,
           1
          ],
          "coloraxis": "coloraxis"
         },
         "name": "",
         "type": "parcoords"
        }
       ],
       "layout": {
        "coloraxis": {
         "cmid": 0.5,
         "colorbar": {
          "title": {
           "text": "HappinessRank"
          }
         },
         "colorscale": [
          [
           0,
           "rgb(0, 147, 146)"
          ],
          [
           0.16666666666666666,
           "rgb(114, 170, 161)"
          ],
          [
           0.3333333333333333,
           "rgb(177, 199, 179)"
          ],
          [
           0.5,
           "rgb(241, 234, 200)"
          ],
          [
           0.6666666666666666,
           "rgb(229, 185, 173)"
          ],
          [
           0.8333333333333334,
           "rgb(217, 137, 148)"
          ],
          [
           1,
           "rgb(208, 88, 126)"
          ]
         ]
        },
        "legend": {
         "tracegroupgap": 0
        },
        "margin": {
         "t": 60
        },
        "template": {
         "data": {
          "bar": [
           {
            "error_x": {
             "color": "#2a3f5f"
            },
            "error_y": {
             "color": "#2a3f5f"
            },
            "marker": {
             "line": {
              "color": "#E5ECF6",
              "width": 0.5
             }
            },
            "type": "bar"
           }
          ],
          "barpolar": [
           {
            "marker": {
             "line": {
              "color": "#E5ECF6",
              "width": 0.5
             }
            },
            "type": "barpolar"
           }
          ],
          "carpet": [
           {
            "aaxis": {
             "endlinecolor": "#2a3f5f",
             "gridcolor": "white",
             "linecolor": "white",
             "minorgridcolor": "white",
             "startlinecolor": "#2a3f5f"
            },
            "baxis": {
             "endlinecolor": "#2a3f5f",
             "gridcolor": "white",
             "linecolor": "white",
             "minorgridcolor": "white",
             "startlinecolor": "#2a3f5f"
            },
            "type": "carpet"
           }
          ],
          "choropleth": [
           {
            "colorbar": {
             "outlinewidth": 0,
             "ticks": ""
            },
            "type": "choropleth"
           }
          ],
          "contour": [
           {
            "colorbar": {
             "outlinewidth": 0,
             "ticks": ""
            },
            "colorscale": [
             [
              0,
              "#0d0887"
             ],
             [
              0.1111111111111111,
              "#46039f"
             ],
             [
              0.2222222222222222,
              "#7201a8"
             ],
             [
              0.3333333333333333,
              "#9c179e"
             ],
             [
              0.4444444444444444,
              "#bd3786"
             ],
             [
              0.5555555555555556,
              "#d8576b"
             ],
             [
              0.6666666666666666,
              "#ed7953"
             ],
             [
              0.7777777777777778,
              "#fb9f3a"
             ],
             [
              0.8888888888888888,
              "#fdca26"
             ],
             [
              1,
              "#f0f921"
             ]
            ],
            "type": "contour"
           }
          ],
          "contourcarpet": [
           {
            "colorbar": {
             "outlinewidth": 0,
             "ticks": ""
            },
            "type": "contourcarpet"
           }
          ],
          "heatmap": [
           {
            "colorbar": {
             "outlinewidth": 0,
             "ticks": ""
            },
            "colorscale": [
             [
              0,
              "#0d0887"
             ],
             [
              0.1111111111111111,
              "#46039f"
             ],
             [
              0.2222222222222222,
              "#7201a8"
             ],
             [
              0.3333333333333333,
              "#9c179e"
             ],
             [
              0.4444444444444444,
              "#bd3786"
             ],
             [
              0.5555555555555556,
              "#d8576b"
             ],
             [
              0.6666666666666666,
              "#ed7953"
             ],
             [
              0.7777777777777778,
              "#fb9f3a"
             ],
             [
              0.8888888888888888,
              "#fdca26"
             ],
             [
              1,
              "#f0f921"
             ]
            ],
            "type": "heatmap"
           }
          ],
          "heatmapgl": [
           {
            "colorbar": {
             "outlinewidth": 0,
             "ticks": ""
            },
            "colorscale": [
             [
              0,
              "#0d0887"
             ],
             [
              0.1111111111111111,
              "#46039f"
             ],
             [
              0.2222222222222222,
              "#7201a8"
             ],
             [
              0.3333333333333333,
              "#9c179e"
             ],
             [
              0.4444444444444444,
              "#bd3786"
             ],
             [
              0.5555555555555556,
              "#d8576b"
             ],
             [
              0.6666666666666666,
              "#ed7953"
             ],
             [
              0.7777777777777778,
              "#fb9f3a"
             ],
             [
              0.8888888888888888,
              "#fdca26"
             ],
             [
              1,
              "#f0f921"
             ]
            ],
            "type": "heatmapgl"
           }
          ],
          "histogram": [
           {
            "marker": {
             "colorbar": {
              "outlinewidth": 0,
              "ticks": ""
             }
            },
            "type": "histogram"
           }
          ],
          "histogram2d": [
           {
            "colorbar": {
             "outlinewidth": 0,
             "ticks": ""
            },
            "colorscale": [
             [
              0,
              "#0d0887"
             ],
             [
              0.1111111111111111,
              "#46039f"
             ],
             [
              0.2222222222222222,
              "#7201a8"
             ],
             [
              0.3333333333333333,
              "#9c179e"
             ],
             [
              0.4444444444444444,
              "#bd3786"
             ],
             [
              0.5555555555555556,
              "#d8576b"
             ],
             [
              0.6666666666666666,
              "#ed7953"
             ],
             [
              0.7777777777777778,
              "#fb9f3a"
             ],
             [
              0.8888888888888888,
              "#fdca26"
             ],
             [
              1,
              "#f0f921"
             ]
            ],
            "type": "histogram2d"
           }
          ],
          "histogram2dcontour": [
           {
            "colorbar": {
             "outlinewidth": 0,
             "ticks": ""
            },
            "colorscale": [
             [
              0,
              "#0d0887"
             ],
             [
              0.1111111111111111,
              "#46039f"
             ],
             [
              0.2222222222222222,
              "#7201a8"
             ],
             [
              0.3333333333333333,
              "#9c179e"
             ],
             [
              0.4444444444444444,
              "#bd3786"
             ],
             [
              0.5555555555555556,
              "#d8576b"
             ],
             [
              0.6666666666666666,
              "#ed7953"
             ],
             [
              0.7777777777777778,
              "#fb9f3a"
             ],
             [
              0.8888888888888888,
              "#fdca26"
             ],
             [
              1,
              "#f0f921"
             ]
            ],
            "type": "histogram2dcontour"
           }
          ],
          "mesh3d": [
           {
            "colorbar": {
             "outlinewidth": 0,
             "ticks": ""
            },
            "type": "mesh3d"
           }
          ],
          "parcoords": [
           {
            "line": {
             "colorbar": {
              "outlinewidth": 0,
              "ticks": ""
             }
            },
            "type": "parcoords"
           }
          ],
          "pie": [
           {
            "automargin": true,
            "type": "pie"
           }
          ],
          "scatter": [
           {
            "marker": {
             "colorbar": {
              "outlinewidth": 0,
              "ticks": ""
             }
            },
            "type": "scatter"
           }
          ],
          "scatter3d": [
           {
            "line": {
             "colorbar": {
              "outlinewidth": 0,
              "ticks": ""
             }
            },
            "marker": {
             "colorbar": {
              "outlinewidth": 0,
              "ticks": ""
             }
            },
            "type": "scatter3d"
           }
          ],
          "scattercarpet": [
           {
            "marker": {
             "colorbar": {
              "outlinewidth": 0,
              "ticks": ""
             }
            },
            "type": "scattercarpet"
           }
          ],
          "scattergeo": [
           {
            "marker": {
             "colorbar": {
              "outlinewidth": 0,
              "ticks": ""
             }
            },
            "type": "scattergeo"
           }
          ],
          "scattergl": [
           {
            "marker": {
             "colorbar": {
              "outlinewidth": 0,
              "ticks": ""
             }
            },
            "type": "scattergl"
           }
          ],
          "scattermapbox": [
           {
            "marker": {
             "colorbar": {
              "outlinewidth": 0,
              "ticks": ""
             }
            },
            "type": "scattermapbox"
           }
          ],
          "scatterpolar": [
           {
            "marker": {
             "colorbar": {
              "outlinewidth": 0,
              "ticks": ""
             }
            },
            "type": "scatterpolar"
           }
          ],
          "scatterpolargl": [
           {
            "marker": {
             "colorbar": {
              "outlinewidth": 0,
              "ticks": ""
             }
            },
            "type": "scatterpolargl"
           }
          ],
          "scatterternary": [
           {
            "marker": {
             "colorbar": {
              "outlinewidth": 0,
              "ticks": ""
             }
            },
            "type": "scatterternary"
           }
          ],
          "surface": [
           {
            "colorbar": {
             "outlinewidth": 0,
             "ticks": ""
            },
            "colorscale": [
             [
              0,
              "#0d0887"
             ],
             [
              0.1111111111111111,
              "#46039f"
             ],
             [
              0.2222222222222222,
              "#7201a8"
             ],
             [
              0.3333333333333333,
              "#9c179e"
             ],
             [
              0.4444444444444444,
              "#bd3786"
             ],
             [
              0.5555555555555556,
              "#d8576b"
             ],
             [
              0.6666666666666666,
              "#ed7953"
             ],
             [
              0.7777777777777778,
              "#fb9f3a"
             ],
             [
              0.8888888888888888,
              "#fdca26"
             ],
             [
              1,
              "#f0f921"
             ]
            ],
            "type": "surface"
           }
          ],
          "table": [
           {
            "cells": {
             "fill": {
              "color": "#EBF0F8"
             },
             "line": {
              "color": "white"
             }
            },
            "header": {
             "fill": {
              "color": "#C8D4E3"
             },
             "line": {
              "color": "white"
             }
            },
            "type": "table"
           }
          ]
         },
         "layout": {
          "annotationdefaults": {
           "arrowcolor": "#2a3f5f",
           "arrowhead": 0,
           "arrowwidth": 1
          },
          "coloraxis": {
           "colorbar": {
            "outlinewidth": 0,
            "ticks": ""
           }
          },
          "colorscale": {
           "diverging": [
            [
             0,
             "#8e0152"
            ],
            [
             0.1,
             "#c51b7d"
            ],
            [
             0.2,
             "#de77ae"
            ],
            [
             0.3,
             "#f1b6da"
            ],
            [
             0.4,
             "#fde0ef"
            ],
            [
             0.5,
             "#f7f7f7"
            ],
            [
             0.6,
             "#e6f5d0"
            ],
            [
             0.7,
             "#b8e186"
            ],
            [
             0.8,
             "#7fbc41"
            ],
            [
             0.9,
             "#4d9221"
            ],
            [
             1,
             "#276419"
            ]
           ],
           "sequential": [
            [
             0,
             "#0d0887"
            ],
            [
             0.1111111111111111,
             "#46039f"
            ],
            [
             0.2222222222222222,
             "#7201a8"
            ],
            [
             0.3333333333333333,
             "#9c179e"
            ],
            [
             0.4444444444444444,
             "#bd3786"
            ],
            [
             0.5555555555555556,
             "#d8576b"
            ],
            [
             0.6666666666666666,
             "#ed7953"
            ],
            [
             0.7777777777777778,
             "#fb9f3a"
            ],
            [
             0.8888888888888888,
             "#fdca26"
            ],
            [
             1,
             "#f0f921"
            ]
           ],
           "sequentialminus": [
            [
             0,
             "#0d0887"
            ],
            [
             0.1111111111111111,
             "#46039f"
            ],
            [
             0.2222222222222222,
             "#7201a8"
            ],
            [
             0.3333333333333333,
             "#9c179e"
            ],
            [
             0.4444444444444444,
             "#bd3786"
            ],
            [
             0.5555555555555556,
             "#d8576b"
            ],
            [
             0.6666666666666666,
             "#ed7953"
            ],
            [
             0.7777777777777778,
             "#fb9f3a"
            ],
            [
             0.8888888888888888,
             "#fdca26"
            ],
            [
             1,
             "#f0f921"
            ]
           ]
          },
          "colorway": [
           "#636efa",
           "#EF553B",
           "#00cc96",
           "#ab63fa",
           "#FFA15A",
           "#19d3f3",
           "#FF6692",
           "#B6E880",
           "#FF97FF",
           "#FECB52"
          ],
          "font": {
           "color": "#2a3f5f"
          },
          "geo": {
           "bgcolor": "white",
           "lakecolor": "white",
           "landcolor": "#E5ECF6",
           "showlakes": true,
           "showland": true,
           "subunitcolor": "white"
          },
          "hoverlabel": {
           "align": "left"
          },
          "hovermode": "closest",
          "mapbox": {
           "style": "light"
          },
          "paper_bgcolor": "white",
          "plot_bgcolor": "#E5ECF6",
          "polar": {
           "angularaxis": {
            "gridcolor": "white",
            "linecolor": "white",
            "ticks": ""
           },
           "bgcolor": "#E5ECF6",
           "radialaxis": {
            "gridcolor": "white",
            "linecolor": "white",
            "ticks": ""
           }
          },
          "scene": {
           "xaxis": {
            "backgroundcolor": "#E5ECF6",
            "gridcolor": "white",
            "gridwidth": 2,
            "linecolor": "white",
            "showbackground": true,
            "ticks": "",
            "zerolinecolor": "white"
           },
           "yaxis": {
            "backgroundcolor": "#E5ECF6",
            "gridcolor": "white",
            "gridwidth": 2,
            "linecolor": "white",
            "showbackground": true,
            "ticks": "",
            "zerolinecolor": "white"
           },
           "zaxis": {
            "backgroundcolor": "#E5ECF6",
            "gridcolor": "white",
            "gridwidth": 2,
            "linecolor": "white",
            "showbackground": true,
            "ticks": "",
            "zerolinecolor": "white"
           }
          },
          "shapedefaults": {
           "line": {
            "color": "#2a3f5f"
           }
          },
          "ternary": {
           "aaxis": {
            "gridcolor": "white",
            "linecolor": "white",
            "ticks": ""
           },
           "baxis": {
            "gridcolor": "white",
            "linecolor": "white",
            "ticks": ""
           },
           "bgcolor": "#E5ECF6",
           "caxis": {
            "gridcolor": "white",
            "linecolor": "white",
            "ticks": ""
           }
          },
          "title": {
           "x": 0.05
          },
          "xaxis": {
           "automargin": true,
           "gridcolor": "white",
           "linecolor": "white",
           "ticks": "",
           "title": {
            "standoff": 15
           },
           "zerolinecolor": "white",
           "zerolinewidth": 2
          },
          "yaxis": {
           "automargin": true,
           "gridcolor": "white",
           "linecolor": "white",
           "ticks": "",
           "title": {
            "standoff": 15
           },
           "zerolinecolor": "white",
           "zerolinewidth": 2
          }
         }
        }
       }
      },
      "text/html": [
       "<div>\n",
       "        \n",
       "        \n",
       "            <div id=\"141562be-d7aa-4b55-a3cc-d6dff3e33dfc\" class=\"plotly-graph-div\" style=\"height:525px; width:100%;\"></div>\n",
       "            <script type=\"text/javascript\">\n",
       "                require([\"plotly\"], function(Plotly) {\n",
       "                    window.PLOTLYENV=window.PLOTLYENV || {};\n",
       "                    \n",
       "                if (document.getElementById(\"141562be-d7aa-4b55-a3cc-d6dff3e33dfc\")) {\n",
       "                    Plotly.newPlot(\n",
       "                        '141562be-d7aa-4b55-a3cc-d6dff3e33dfc',\n",
       "                        [{\"dimensions\": [{\"label\": \"Economy\", \"values\": [0.8640650170265682, 0.7923937368732289, 0.7914582951000163, 0.8365449317917664, 0.7716476392202433, 0.8039192971187383, 0.7906946483554538, 0.7514067948247372, 0.7988104978487369, 0.7934798816296555, 0.7351975897718226, 0.5931829362166331, 0.7949136946636463, 0.8265381899838893, 0.8208973741359277, 0.7953552894516825, 0.7824500800350735, 0.9311393782753192, 0.7706117075508222, 0.6696640948390127, 0.8693463759915167, 0.59192512387594, 0.7230634825961936, 0.6335884132664507, 0.6164234390611902, 0.9045909290185765, 0.7180374584531287, 0.6508349518770021, 0.4661203444566784, 0.659488489223301, 0.7648865235211325, 0.6028915218898463, 0.7663314242164722, 0.7400167079586476, 0.9999999999999999, 0.5722909784669946, 0.8181802598845844, 0.7276998455374085, 0.8728791980179818, 0.7084765170979355, 0.7956166141595811, 0.6902069187006792, 0.3941162751575207, 0.5349790226545134, 0.4863166470402307, 0.6905129126649117, 0.42038460165983466, 0.745719589221261, 0.6851622876776561, 0.48534956719887323, 0.757398528782038, 0.702697487816314, 0.5836457632389239, 0.6739211832956107, 0.7492538768581392, 0.38961086132011896, 0.6509013504006853, 0.4456766404641003, 0.6044459610326036, 0.6866473333537225, 0.7199786275769255, 0.7169288834852473, 0.5533698206602629, 0.6357800743255646, 0.7248037993719518, 0.7060634851450792, 0.6182268408066701, 0.5889583460777688, 0.6405261668807726, 0.49847895128565795, 0.8294330254277003, 0.45847495590424253, 0.571593539079545, 0.5297362474766, 0.6874254450357873, 0.494759614404273, 0.6535058038172146, 0.5086069245631195, 0.5779268877062032, 0.3885486761077456, 0.5321556835097153, 0.6031921631899826, 0.5992888603413474, 0.46938779541607933, 0.6166468490650671, 0.5769690157215358, 0.6892832655329209, 0.5746243576803056, 0.7030144419975117, 0.525137608072836, 0.3905209097999627, 0.5690600084623061, 0.012103698746648187, 0.42151060464713097, 0.4189494504598187, 0.2804806819803832, 0.4732909070981416, 0.3187037695499678, 0.2564833188046731, 0.5490991593768486, 0.5637791592748925, 0.5384243541118644, 0.38286421055851166, 0.5290356857017587, 0.6208469061601503, 0.19693590248465553, 0.30164406440529307, 0.618395513447929, 0.5325053590363156, 0.31360580305254737, 0.5155291936848749, 0.29959896438694095, 0.12524585614587777, 0.19623545222364921, 0.2562100780469397, 0.3401851894333308, 0.5894433994004984, 0.6404918843416718, 0.18133422480679404, 0.5398057875043312, 0.481405418425398, 0.4234743314267647, 0.3466266746191952, 0.43242414510307636, 0.5081409560367843, 0.04923243434065366, 0.2545377528496562, 0.3223540634367157, 0.3216678072938966, 0.35253837350380224, 0.35665868227605385, 0.4782276883118197, 0.20389016014661188, 0.18721089241654915, 0.08655564508523474, 0.1247842207285737, 0.234135675378764, 0.20090518966273055, 0.27850695081666293, 0.458864617106094, 0.21460582726698005, 0.5998047552048273, 0.23043260358679418, 0.16346712763300036, 0.19703710925552073, 0.31627875782508436, 0.21234547368528328, 0.06363265797368525, 0.13072183861462855, 0.16327256785138955, 0.19710960917905387, 0.4154198145429325, 0.273222819936379, 0.04897597243250538, 0.0]}, {\"label\": \"Family\", \"values\": [0.9521596355538667, 0.9630861951993716, 0.9999999999999999, 0.9418454156382673, 0.9563340264745732, 0.8872235718746814, 0.9197646211376439, 0.9612691605046613, 0.9177859340834374, 0.9375799842403769, 0.8545338231656432, 0.8794402772249167, 0.9064749319675987, 0.8816239163777654, 0.9675004740766343, 0.9142829481778356, 0.9079450506325707, 0.9050088102016278, 0.9291470454700567, 0.7972467879365287, 0.7863098659602914, 0.8886930984064664, 0.8902945226052023, 0.8943712855670364, 0.7518202544189033, 0.8405787983456373, 0.9241498114721974, 0.8768475480578982, 0.7795886361944062, 0.8526106485975254, 0.8616659933618902, 0.885269754414244, 0.859671984861521, 0.9512701034767547, 0.7912066593666512, 0.8706106832373197, 0.7988938063905112, 0.8569792592028995, 0.7821427286711032, 0.9344862363822359, 0.821514848405766, 0.7976324146732371, 0.799227917540126, 0.7985779033363283, 0.733977505156368, 0.8976377142652414, 0.9617497506009061, 0.8971480201212807, 0.9122725079815839, 0.6714486849240076, 0.8918173411236362, 0.9149012092395881, 0.7116825804927381, 0.8721827968433952, 0.7005418166675722, 0.7772542991459815, 0.7140878254900626, 0.7622245525952697, 0.9270913070851581, 0.8595500794420664, 0.7365717886729967, 0.9018640648729257, 0.7567304448385738, 0.7510123627046715, 0.702459662037024, 0.9168601338487463, 0.8971616391845303, 0.8429071400455664, 0.8306064613277098, 0.935868127202645, 0.7840626465067038, 0.7785532173038513, 0.7812058259391953, 0.7693461384108388, 0.8339468326573866, 0.8495220078881052, 0.6010174032384064, 0.7064894244272982, 0.7207600562348874, 0.41767139332047143, 0.7912984400103188, 0.8887127128182176, 0.7689038149216676, 0.4811107293496888, 0.7155214539475102, 0.8707558298842847, 0.7695483518935025, 0.7013799071742394, 0.848792425787576, 0.6639470976369896, 0.7102716011296136, 0.7499767217641652, 0.44776045607282217, 0.7931900834863366, 0.7548678158886231, 0.7894472836408267, 0.8320800587751381, 0.8656780657732651, 0.7322130222818224, 0.9270056698232829, 0.8598106180434516, 0.5391565092386847, 0.7175374453923672, 0.6193266424257219, 0.8906013956283116, 0.6110467700837147, 0.5873795397556008, 0.4417997843747011, 0.4990054753075288, 0.456440832497809, 0.6820368404543028, 0.6630870241858288, 0.5406153403648167, 0.6974134290181107, 0.7324667513515797, 0.6228756296781308, 0.6076176527929372, 0.717520717629891, 0.5368702089948887, 0.7823151134445798, 0.6255432636930442, 0.4683874155710606, 0.7897996769025281, 0.5166135547871977, 0.35429289897600946, 0.7630965427267794, 0.7956625356001594, 0.5617748866546063, 0.6247700117701268, 0.7537738498294014, 0.5424555052620663, 0.8658636995267556, 0.7015062535925853, 0.6477690568073358, 0.6165658954674728, 0.31825226857325717, 0.5922459123195832, 0.6724906172796029, 0.7389261102164149, 0.6857256821633341, 0.36107830117581424, 0.7584593997220238, 0.2702762131069569, 0.5668912874559403, 0.39765314673637686, 0.5807757003936357, 0.3733595135152183, 0.541495102244378, 0.49128117192631504, 0.26815441486360914, 0.5871863192956817, 0.2459387805342734, 0.6469679746247259, 0.39103672454423166, 0.0]}, {\"label\": \"Health\", \"values\": [0.8390446381787036, 0.8347255110362377, 0.8778923628794993, 0.9037790024117632, 0.8522002639198045, 0.8538205565040551, 0.8789513817434063, 0.86020668507698, 0.8750729997961688, 0.8887767792254525, 0.8830023329174882, 0.7999108465565781, 0.8586992624344791, 0.8154742806879586, 0.8528584626624284, 0.8414503749849572, 0.8616097124396545, 0.8900434586940891, 0.8481752389336759, 0.8630713719077757, 0.7654597764610177, 0.6493494378693964, 0.794576141039467, 0.7321144300328457, 0.7477458497854246, 1.0, 0.8656670039163605, 0.7574750755484722, 0.5689776902327763, 0.7437196320691001, 0.8893866410074822, 0.6816684713511538, 0.836219688096031, 0.9362482571230001, 0.7478712747818725, 0.6266800311038919, 0.6215408705637259, 0.5476434507592955, 0.6657301432864442, 0.7506462557468403, 0.6878760042709785, 0.6517002463113402, 0.6878369580508621, 0.7221081769878522, 0.6277233561494244, 0.7366834655391052, 0.5247779026517468, 0.8985267836040274, 0.5764652109792199, 0.4741394122062376, 0.9620676015620748, 0.6624065064311064, 0.6504366428311038, 0.6725351084841467, 0.9481003543099205, 0.6208214031541679, 0.7216048448449472, 0.49882468994193874, 0.46101062289455635, 0.6382795205902587, 0.8790457329794729, 0.832895800139599, 0.6636873731115545, 0.671945836991824, 0.889648727774336, 0.7321473242761581, 0.6716370454214887, 0.5478390585115143, 0.6715226060979018, 0.610063541759587, 0.9932279918208837, 0.49290447944891325, 0.6854027212704407, 0.636750817130041, 0.7243485637237131, 0.6751211358758871, 0.7385930893589062, 0.5702542254193523, 0.780854596207783, 0.4234344427460943, 0.5185357177809514, 0.6499727963352294, 0.7029700049071435, 0.6295054833887523, 0.5695419771662474, 0.6054537651008275, 0.8532968851725362, 0.7741832167920837, 0.83817789997752, 0.7426982155940176, 0.6135588689879414, 0.6792557664895419, 0.1200527120832793, 0.6868606769974264, 0.05994332397207526, 0.5573874287116147, 0.5222572557073549, 0.5828986093330886, 0.5309476762445621, 0.5874543992566398, 0.19703166805389538, 0.6458314487673102, 0.5957572452552722, 0.5478582677452043, 0.745890840453566, 0.005860767213340953, 0.13996122308580797, 0.6733420846249605, 0.770053294323941, 0.5616064292928507, 0.35662403744319077, 0.3264779700535577, 0.11232784587465018, 0.41866851259450905, 0.43113863234901506, 0.2715513006754175, 0.5278404257569712, 0.37554654507179897, 0.3722090976562911, 0.6583842435570125, 0.671437106175398, 0.47965378055610014, 0.3005282413714286, 0.30538152331608603, 0.68409919271626, 0.2015887919520089, 0.17837496662709473, 0.051229656966401235, 0.4526454410493417, 0.30639616006163045, 0.31136397549278383, 0.6065387729279625, 0.22920942578264603, 0.2273259478642569, 0.28278794908096705, 0.3318505604482258, 0.043322848397902784, 0.20723046855652438, 0.0, 0.052521395539528046, 0.19036148136839284, 0.3599349623056455, 0.2210973067587183, 0.39518305866117026, 0.2920730397840181, 0.32657546005329946, 0.1721825311605467, 0.24214853960545366, 0.20445570730501436, 0.26025018206398726, 0.3437887539227478, 0.5271588746126057, 0.38389910908704045, 0.15967562509577143, 0.0197712862163892]}, {\"label\": \"Freedom\", \"values\": [0.965323020252491, 0.9510186008522602, 0.9527746437296601, 0.9420005107039578, 0.9387802687172094, 0.8893060040313022, 0.9283739512006075, 0.9328725829848658, 0.9311437052115357, 0.9139515446983687, 0.6167708750242235, 0.8813259830598414, 0.8625405891929975, 0.7683122683043008, 0.870659333295907, 0.8545575800600899, 0.8200103589596858, 0.9063867876177839, 0.7720335253604359, 0.5725727979513887, 0.9241876275628015, 0.6645721767760094, 0.745836947801348, 0.7512650336213448, 0.6270123003591236, 0.835308296766086, 0.8944447362177848, 0.880202706006568, 0.8071579143719715, 0.8355912666001433, 0.7143533165875571, 0.8814309309118972, 0.5491337953815703, 0.6210133851522799, 0.9177853558356989, 0.7253906341965201, 0.6832533019183996, 0.7878948674252372, 0.7540274983293466, 0.44940078307940096, 0.8154166493111844, 0.6111140137527866, 0.6799130354468388, 0.6915292414235246, 0.6569744140939809, 0.7904947489853834, 1.0, 0.3895954934903364, 0.5678448474136115, 0.8317667821485423, 0.7681375966851335, 0.35584088221392024, 0.35447972939934325, 0.4948098352164786, 0.3918301402262674, 0.3657114133279245, 0.69427219253177, 0.8488174124695088, 0.6354314905130407, 0.6645729917291315, 0.7158444091499321, 0.8698472777849218, 0.6836366015368215, 0.7462944534290512, 0.5394793173952653, 0.7278881938646714, 0.4487669759262848, 0.7075338794122924, 0.4568799248069921, 0.7193448591851568, 0.7458710852821283, 0.8890480260929889, 0.31707702574708657, 0.6356581833065005, 0.26716882116125373, 0.7205593657129313, 0.3885648494419383, 0.39542494372296016, 0.7182509204442766, 0.3573349629377435, 0.6734893485626952, 0.23394976991156938, 0.2962240052591639, 0.6200670887520171, 0.6048714728376132, 0.839484931516774, 0.14543326303608084, 0.43830850140986855, 0.7572598740625779, 0.31052577606174886, 0.5287969118709703, 0.49511073401922245, 0.9147408720722817, 0.8675377911872791, 0.6000051160946006, 0.7163959965880632, 0.761927382243803, 0.6911421386905336, 0.6689051919757907, 0.5987767100885771, 0.7280633635107464, 0.44007790046343714, 0.3869526457905868, 0.42857687452800713, 0.4393958299754244, 0.48416002781706685, 0.6538391536077974, 0.37876660014234564, 0.5795661370678715, 0.7267111751805126, 0.7904361629109412, 0.6878308936051544, 0.7304095229988828, 0.7816074135380014, 0.5741329804284477, 0.7012600533522653, 0.43836858156503655, 0.4744841799488939, 0.6211068331102786, 0.8525854840549904, 0.30125889883534235, 0.7139961407442158, 0.14599048723330665, 0.6608837894957976, 0.4700503822130147, 0.35846840426745763, 0.4658023032386237, 0.6801475155701324, 0.9622136118903477, 0.022781444343681997, 0.6426542389333899, 0.18682115536809707, 0.6732804489124004, 0.49277403704233697, 0.5524640107646255, 0.7093286778381652, 0.24662720331631685, 0.5110290775273962, 0.5934858985944778, 0.0, 0.1613060936761445, 0.7674855436371191, 0.6471152923236847, 0.28742445837310027, 0.04613736272567408, 0.378980978088628, 0.22341471243926364, 0.5057073430898322, 0.5295681291755038, 0.5779368194009555, 0.8839271323248445, 0.12387331598992374, 0.5925082717741901, 0.0910001897029769, 0.4114585578227354]}, {\"label\": \"Corruption\", \"values\": [0.6805051405737153, 0.8631560380559574, 0.3306568711975875, 0.7904396548714013, 0.824047227448435, 0.6087811458893886, 0.6189246131347274, 0.8244890877702514, 0.8278963674511456, 0.6486725832987581, 0.18358964205976216, 0.21560394359695403, 0.4761073851522599, 0.29213119554411726, 0.6426516266416343, 0.5960096880635576, 0.5413287030000291, 0.6866876548179974, 0.571664044431481, 0.17722722891702358, 0.6988673766899034, 0.23926534238654842, 0.07941483707138769, 0.12866441106514775, 0.28596142233322847, 0.9999999999999999, 0.3296650924697354, 0.3834996492846012, 0.16631915524830435, 0.15288118411890836, 0.37152603047680804, 0.06808573162158875, 0.13747181888810375, 0.15273079499426928, 0.946138035521358, 0.10051251207991178, 0.5889030156389287, 0.01930791685451935, 0.4633985413217701, 0.05214397091732356, 0.5536029716839679, 0.14128711652377873, 0.2814684268848247, 0.30181412417687115, 0.19379593190678238, 0.12773381818153803, 0.5309586250826719, 0.060365327309124514, 0.07099359970073651, 0.2080108814201969, 0.35269866640855, 0.02555555438771657, 0.31465358766960616, 0.15903831257625364, 0.13629465331038362, 0.021734044695930158, 0.009450413799559734, 0.1302535260248282, 0.558401880306945, 0.25690477358060454, 0.33459131514679785, 0.0971962569732285, 0.10133167708457416, 0.09084826173792565, 0.08881603481838792, 0.39467122485427025, 0.33665991980273596, 0.19945866333786566, 0.21466704438321313, 0.19613264384979714, 0.6330579815224852, 0.21393544590150793, 0.08809626271150756, 0.25802555125990556, 0.07890657574682357, 0.11903263912566589, 0.09283305478503136, 0.12377913941732967, 0.0490930269704248, 0.2678138742343834, 0.03298918515731872, 0.1388973543837883, 0.1899046213300687, 0.18901940834877218, 0.3898007161166824, 0.24540887933849725, 0.09323508734251189, 0.080795177201137, 0.0341787327248275, 0.0, 0.15796731157905114, 0.129822922422062, 0.6082394754571117, 0.1887395388734384, 0.05625916022533083, 0.3152588669890027, 0.37341693462418385, 0.08494188612481564, 0.15717062791920494, 0.07086310038830299, 0.15616687839675295, 0.1867794416076833, 0.19229184810069372, 0.24634815345518882, 0.023802165946792908, 0.1531207925705847, 0.11050133784059957, 0.10501885833408643, 0.08585730690883654, 0.26645656905858367, 0.2006147115353015, 0.1392208386308645, 0.38645999790494967, 0.4066617247289776, 0.24867222064465788, 0.16845194647045755, 0.23091526384786615, 0.1637852942671638, 0.3563492131753961, 0.1586317709124967, 0.057449869168522044, 0.1986330796765818, 0.29497029574088646, 0.17147705933611562, 0.5420254481762794, 0.12974444632154475, 0.22607901468999406, 0.28011973875554014, 0.14668276765284602, 0.19350853655655995, 0.05456804880027601, 0.049599579327663616, 0.12291355147865293, 0.2591559087842132, 0.29845061973413384, 0.1566022719220229, 0.1154016451915532, 0.2054141336508085, 0.2564993391351145, 0.150159737898008, 0.13171829555911121, 0.21232295098508394, 0.1312254871503628, 0.14480044845870077, 0.21509901997383227, 0.12226248306758364, 0.25154330179804596, 0.08388454884289594, 0.2389312031694802, 0.2060379307945576, 0.980427269431584, 0.32596293970365287, 0.14222269991291148, 0.18123311251442908, 0.12182668035295416]}, {\"label\": \"Generosity\", \"values\": [0.4319567673226291, 0.42392437489011825, 0.567419538101163, 0.34668642120289817, 0.2929125978409976, 0.5613933590734025, 0.5196905274381517, 0.5966113175513252, 0.4598623967395912, 0.5699957142556402, 0.39385805751232794, 0.25607873735968534, 0.3776180663540766, 0.4684290847994195, 0.5105250015504345, 0.40123987167517017, 0.27623219061989535, 0.33789449330923177, 0.5879832521701825, 0.38977699905153124, 0.430679685201906, 0.19371758310190598, 0.105129901224474, 0.13060530342728738, 0.14436704299570197, 0.412810207951769, 0.6857745007171824, 0.20892747718299878, 0.33826129925903403, 0.2512387301850105, 0.1548337343128665, 0.6826632466056844, 0.30827840667603224, 0.22686935549118648, 0.3943248594224639, 0.1778056192324522, 0.17613696331471052, 0.38814712179479516, 0.2723977615982508, 0.16292629501169512, 0.20602983464110353, 0.4971021085350174, 0.35996081381634126, 0.17911575478316322, 0.09337824225877642, 0.18908323973825197, 0.4963560149205918, 0.20617440561433972, 0.062361736560002407, 0.28638915938531123, 0.14386868119410234, 0.012128574082142308, 0.08285252949951945, 0.1826504270666732, 0.2466060048214263, 0.249117425412686, 0.15931735474697775, 0.2691414031069014, 0.29821309494751524, 0.2409860504924122, 0.3184030687807205, 0.2895314222014361, 0.15132260304135586, 0.43066990608060807, 0.3236634537096935, 0.11799754462266387, 0.18511168965578087, 0.1814558807297121, 0.05571462333527345, 0.26745889639735787, 0.4468164799601271, 0.23090222955431092, 0.2626564943891315, 0.20543558411011595, 0.09354967914525215, 0.2789944723427952, 0.2959197309809959, 0.3817455311904895, 0.0343726223400079, 0.37639347144439617, 0.7298922774670262, 0.07758209874593967, 0.23614949268052327, 0.03843325354992774, 0.05401584772393256, 0.2230919831972644, 0.0, 0.31554539617460625, 0.11347754585732235, 0.3924081160874864, 0.28182302094765943, 0.3027902215614617, 0.34797751413740835, 0.28036632303901227, 0.2755685972287888, 0.2971065784824618, 0.5656468145525836, 0.5113865599170677, 0.47023964465731377, 0.4038590404029196, 0.16628864139770197, 0.05929463073611252, 0.13623261876760598, 0.15348437559563724, 0.13504480224411938, 0.3496594518798959, 0.2819537766895333, 0.46206227230649577, 0.24020869925027183, 0.20553687802654913, 0.09203678684957818, 0.530811948706481, 0.38448592546190163, 0.9999999999999999, 0.21891699183134014, 0.29780162508370894, 0.2382092601095483, 0.052245168900715754, 0.37305811543317435, 0.5857035078525985, 0.09961885963639587, 0.276274134160156, 0.24087341279527227, 0.14420201587873283, 0.06444388039658137, 0.29407366402267626, 0.21878013747382066, 0.24011864243322129, 0.4604873003707959, 0.21754307862954061, 0.3065643222948035, 0.3222401470552249, 0.38870744766498777, 0.2993343512153993, 0.2728560112223058, 0.34265479175521235, 0.2578692944694699, 0.225687984297647, 0.1879273831611927, 0.11684690654033311, 0.37212764093171813, 0.11854360186587047, 0.24812626701851587, 0.24906182666304819, 0.5837230402071946, 0.12424328270380025, 0.3408653903597635, 0.318050095842501, 0.31598012256688335, 0.23493853520000083, 0.30159112348804107, 0.5890446957761589, 0.42270237589263776, 0.24393418886064894, 0.33514474664181404]}, {\"label\": \"Dystopia\", \"values\": [0.6932154850493775, 0.7066046982953795, 0.7098927792499501, 0.6931021749704285, 0.7491201716047211, 0.6997046192481089, 0.6604504223585337, 0.60905255281429, 0.6276984138242492, 0.6158983265702633, 0.8847530323282702, 0.9201169165072682, 0.6426527334141927, 0.6717109378079971, 0.5095525531188847, 0.5978513902633211, 0.6374343778428164, 0.45320907284767636, 0.4841012992105798, 0.778104402444679, 0.4952563370750312, 0.8728934181203718, 0.757033949422802, 0.8162196676881686, 0.8976738624368641, 0.3060509583796072, 0.4303408013842271, 0.6550280738339631, 0.9183837596545272, 0.704229363967551, 0.5942686334813181, 0.6065163912776306, 0.6383093544432381, 0.5657251109668573, 0.2801718762469428, 0.8169726314386048, 0.6159782180084181, 0.6115314501175018, 0.4608427954936694, 0.6277855285623655, 0.4665824470503834, 0.5937189664623943, 0.7796903084114128, 0.6980797248671158, 0.8529365716808521, 0.5182596755450324, 0.5252647100110508, 0.5239500694176533, 0.6671459862863494, 0.8227718969769451, 0.359658461491066, 0.6754805430842419, 0.7992821606334866, 0.5897790479568814, 0.548430529216376, 0.8869617956183813, 0.6566421767788653, 0.7539010388758864, 0.5311036601853363, 0.5135763663372279, 0.4275282398393198, 0.3414416470934094, 0.6677526564555887, 0.48170690581417325, 0.4538431567456948, 0.35757240727262635, 0.49106934689967835, 0.5318707224248564, 0.5480289833605632, 0.4772352479980784, 0.06450624436876334, 0.5820951973496915, 0.5727797512278079, 0.5158701557004053, 0.48859680261932464, 0.4505858836006112, 0.5389817566421511, 0.5959426114909825, 0.5062927561702009, 0.8813700041416501, 0.3838423308527234, 0.5152449486288488, 0.4932443434381489, 0.7586135893943848, 0.5053959356144615, 0.34368574363394383, 0.5005557154447979, 0.4807906780790168, 0.2663807690342886, 0.5527357900501748, 0.6161174623450671, 0.4524634194249166, 1.0, 0.39583022390576544, 0.7254701302186926, 0.5369949140135761, 0.2782445605722873, 0.42298939663079366, 0.5523957727856177, 0.2676983685698363, 0.4135665583142654, 0.5520344337320107, 0.5478874763034425, 0.4833776637985517, 0.22566511580385795, 0.8360967097172449, 0.7138825646335236, 0.40912292342092477, 0.40609566451444273, 0.5843332889782107, 0.40297424162530054, 0.46503213541720484, 0.7219149612208864, 0.26915773624564077, 0.5153115248273086, 0.5288389380774348, 0.34348209879159597, 0.34494546974207596, 0.5978418172151769, 0.015139427529980432, 0.41743232921051016, 0.41656283535584276, 0.46493544763094413, 0.49139883381127686, 0.40963499446895374, 0.6742095904014689, 0.4709778685921598, 0.5355037812234742, 0.24274874238431243, 0.4778675913418931, 0.438007942671018, 0.15932006294192147, 0.4192076074750897, 0.4925221004694889, 0.5460963589955712, 0.6219486670531267, 0.6180983870893342, 0.4453458581293424, 0.38397313350146417, 0.4513731362689451, 0.6471405783844217, 0.0, 0.5503479672459033, 0.44047004362612013, 0.48155495543180443, 0.3532257212486785, 0.5481346350009968, 0.47283765076354106, 0.42867961644799296, 0.5326803412147654, 0.059187197736443986, 0.24954995795256135, 0.08877914307816859, 0.47639229759508644, 0.6161881288459168]}], \"domain\": {\"x\": [0.0, 1.0], \"y\": [0.0, 1.0]}, \"line\": {\"color\": [0.0, 0.006493506493506494, 0.012987012987012986, 0.01948051948051948, 0.025974025974025976, 0.032467532467532464, 0.03896103896103896, 0.045454545454545456, 0.05194805194805195, 0.05844155844155845, 0.06493506493506494, 0.07142857142857142, 0.07792207792207792, 0.08441558441558442, 0.09090909090909091, 0.09740259740259741, 0.1038961038961039, 0.1103896103896104, 0.1168831168831169, 0.12337662337662339, 0.12987012987012989, 0.13636363636363638, 0.14285714285714288, 0.14935064935064934, 0.15584415584415584, 0.16233766233766234, 0.16883116883116883, 0.17532467532467533, 0.18181818181818182, 0.18831168831168832, 0.19480519480519481, 0.2012987012987013, 0.2077922077922078, 0.2142857142857143, 0.2207792207792208, 0.2272727272727273, 0.2337662337662338, 0.24025974025974028, 0.24675324675324678, 0.2532467532467533, 0.25974025974025977, 0.26623376623376627, 0.27272727272727276, 0.27922077922077926, 0.28571428571428575, 0.29220779220779225, 0.29870129870129875, 0.3051948051948052, 0.3116883116883117, 0.3181818181818182, 0.3246753246753247, 0.33116883116883117, 0.33766233766233766, 0.34415584415584416, 0.35064935064935066, 0.35714285714285715, 0.36363636363636365, 0.37012987012987014, 0.37662337662337664, 0.38311688311688313, 0.38961038961038963, 0.3961038961038961, 0.4025974025974026, 0.4090909090909091, 0.4155844155844156, 0.4220779220779221, 0.4285714285714286, 0.4350649350649351, 0.4415584415584416, 0.4480519480519481, 0.4545454545454546, 0.4610389610389611, 0.4675324675324676, 0.4740259740259741, 0.48051948051948057, 0.48701298701298706, 0.4935064935064935, 0.5000000000000001, 0.5064935064935066, 0.5129870129870131, 0.5194805194805195, 0.5259740259740261, 0.5324675324675325, 0.5389610389610391, 0.5454545454545455, 0.5519480519480521, 0.5584415584415585, 0.5649350649350651, 0.5714285714285715, 0.5779220779220781, 0.5844155844155845, 0.590909090909091, 0.5974025974025975, 0.603896103896104, 0.6103896103896105, 0.6168831168831169, 0.6233766233766235, 0.6298701298701299, 0.6363636363636365, 0.6428571428571429, 0.6493506493506495, 0.6558441558441559, 0.6623376623376624, 0.6688311688311689, 0.6753246753246754, 0.6818181818181819, 0.6883116883116884, 0.6948051948051949, 0.7012987012987014, 0.7077922077922079, 0.7142857142857144, 0.7207792207792209, 0.7272727272727274, 0.7337662337662338, 0.7402597402597404, 0.7467532467532468, 0.7532467532467534, 0.7597402597402598, 0.7662337662337664, 0.7727272727272728, 0.7792207792207794, 0.7857142857142858, 0.7922077922077924, 0.7987012987012988, 0.8051948051948054, 0.8116883116883118, 0.8181818181818183, 0.8246753246753248, 0.8311688311688312, 0.8376623376623378, 0.8441558441558442, 0.8506493506493508, 0.8571428571428572, 0.8636363636363638, 0.8701298701298702, 0.8766233766233767, 0.8831168831168832, 0.8896103896103897, 0.8961038961038962, 0.9025974025974027, 0.9090909090909092, 0.9155844155844157, 0.9220779220779222, 0.9285714285714287, 0.9350649350649352, 0.9415584415584417, 0.9480519480519481, 0.9545454545454547, 0.9610389610389611, 0.9675324675324677, 0.9740259740259741, 0.9805194805194807, 0.9870129870129871, 0.9935064935064936, 1.0], \"coloraxis\": \"coloraxis\"}, \"name\": \"\", \"type\": \"parcoords\"}],\n",
       "                        {\"coloraxis\": {\"cmid\": 0.5, \"colorbar\": {\"title\": {\"text\": \"HappinessRank\"}}, \"colorscale\": [[0.0, \"rgb(0, 147, 146)\"], [0.16666666666666666, \"rgb(114, 170, 161)\"], [0.3333333333333333, \"rgb(177, 199, 179)\"], [0.5, \"rgb(241, 234, 200)\"], [0.6666666666666666, \"rgb(229, 185, 173)\"], [0.8333333333333334, \"rgb(217, 137, 148)\"], [1.0, \"rgb(208, 88, 126)\"]]}, \"legend\": {\"tracegroupgap\": 0}, \"margin\": {\"t\": 60}, \"template\": {\"data\": {\"bar\": [{\"error_x\": {\"color\": \"#2a3f5f\"}, \"error_y\": {\"color\": \"#2a3f5f\"}, \"marker\": {\"line\": {\"color\": \"#E5ECF6\", \"width\": 0.5}}, \"type\": \"bar\"}], \"barpolar\": [{\"marker\": {\"line\": {\"color\": \"#E5ECF6\", \"width\": 0.5}}, \"type\": \"barpolar\"}], \"carpet\": [{\"aaxis\": {\"endlinecolor\": \"#2a3f5f\", \"gridcolor\": \"white\", \"linecolor\": \"white\", \"minorgridcolor\": \"white\", \"startlinecolor\": \"#2a3f5f\"}, \"baxis\": {\"endlinecolor\": \"#2a3f5f\", \"gridcolor\": \"white\", \"linecolor\": \"white\", \"minorgridcolor\": \"white\", \"startlinecolor\": \"#2a3f5f\"}, \"type\": \"carpet\"}], \"choropleth\": [{\"colorbar\": {\"outlinewidth\": 0, \"ticks\": \"\"}, \"type\": \"choropleth\"}], \"contour\": [{\"colorbar\": {\"outlinewidth\": 0, \"ticks\": \"\"}, \"colorscale\": [[0.0, \"#0d0887\"], [0.1111111111111111, \"#46039f\"], [0.2222222222222222, \"#7201a8\"], [0.3333333333333333, \"#9c179e\"], [0.4444444444444444, \"#bd3786\"], [0.5555555555555556, \"#d8576b\"], [0.6666666666666666, \"#ed7953\"], [0.7777777777777778, \"#fb9f3a\"], [0.8888888888888888, \"#fdca26\"], [1.0, \"#f0f921\"]], \"type\": \"contour\"}], \"contourcarpet\": [{\"colorbar\": {\"outlinewidth\": 0, \"ticks\": \"\"}, \"type\": \"contourcarpet\"}], \"heatmap\": [{\"colorbar\": {\"outlinewidth\": 0, \"ticks\": \"\"}, \"colorscale\": [[0.0, \"#0d0887\"], [0.1111111111111111, \"#46039f\"], [0.2222222222222222, \"#7201a8\"], [0.3333333333333333, \"#9c179e\"], [0.4444444444444444, \"#bd3786\"], [0.5555555555555556, \"#d8576b\"], [0.6666666666666666, \"#ed7953\"], [0.7777777777777778, \"#fb9f3a\"], [0.8888888888888888, \"#fdca26\"], [1.0, \"#f0f921\"]], \"type\": \"heatmap\"}], \"heatmapgl\": [{\"colorbar\": {\"outlinewidth\": 0, \"ticks\": \"\"}, \"colorscale\": [[0.0, \"#0d0887\"], [0.1111111111111111, \"#46039f\"], [0.2222222222222222, \"#7201a8\"], [0.3333333333333333, \"#9c179e\"], [0.4444444444444444, \"#bd3786\"], [0.5555555555555556, \"#d8576b\"], [0.6666666666666666, \"#ed7953\"], [0.7777777777777778, \"#fb9f3a\"], [0.8888888888888888, \"#fdca26\"], [1.0, \"#f0f921\"]], \"type\": \"heatmapgl\"}], \"histogram\": [{\"marker\": {\"colorbar\": {\"outlinewidth\": 0, \"ticks\": \"\"}}, \"type\": \"histogram\"}], \"histogram2d\": [{\"colorbar\": {\"outlinewidth\": 0, \"ticks\": \"\"}, \"colorscale\": [[0.0, \"#0d0887\"], [0.1111111111111111, \"#46039f\"], [0.2222222222222222, \"#7201a8\"], [0.3333333333333333, \"#9c179e\"], [0.4444444444444444, \"#bd3786\"], [0.5555555555555556, \"#d8576b\"], [0.6666666666666666, \"#ed7953\"], [0.7777777777777778, \"#fb9f3a\"], [0.8888888888888888, \"#fdca26\"], [1.0, \"#f0f921\"]], \"type\": \"histogram2d\"}], \"histogram2dcontour\": [{\"colorbar\": {\"outlinewidth\": 0, \"ticks\": \"\"}, \"colorscale\": [[0.0, \"#0d0887\"], [0.1111111111111111, \"#46039f\"], [0.2222222222222222, \"#7201a8\"], [0.3333333333333333, \"#9c179e\"], [0.4444444444444444, \"#bd3786\"], [0.5555555555555556, \"#d8576b\"], [0.6666666666666666, \"#ed7953\"], [0.7777777777777778, \"#fb9f3a\"], [0.8888888888888888, \"#fdca26\"], [1.0, \"#f0f921\"]], \"type\": \"histogram2dcontour\"}], \"mesh3d\": [{\"colorbar\": {\"outlinewidth\": 0, \"ticks\": \"\"}, \"type\": \"mesh3d\"}], \"parcoords\": [{\"line\": {\"colorbar\": {\"outlinewidth\": 0, \"ticks\": \"\"}}, \"type\": \"parcoords\"}], \"pie\": [{\"automargin\": true, \"type\": \"pie\"}], \"scatter\": [{\"marker\": {\"colorbar\": {\"outlinewidth\": 0, \"ticks\": \"\"}}, \"type\": \"scatter\"}], \"scatter3d\": [{\"line\": {\"colorbar\": {\"outlinewidth\": 0, \"ticks\": \"\"}}, \"marker\": {\"colorbar\": {\"outlinewidth\": 0, \"ticks\": \"\"}}, \"type\": \"scatter3d\"}], \"scattercarpet\": [{\"marker\": {\"colorbar\": {\"outlinewidth\": 0, \"ticks\": \"\"}}, \"type\": \"scattercarpet\"}], \"scattergeo\": [{\"marker\": {\"colorbar\": {\"outlinewidth\": 0, \"ticks\": \"\"}}, \"type\": \"scattergeo\"}], \"scattergl\": [{\"marker\": {\"colorbar\": {\"outlinewidth\": 0, \"ticks\": \"\"}}, \"type\": \"scattergl\"}], \"scattermapbox\": [{\"marker\": {\"colorbar\": {\"outlinewidth\": 0, \"ticks\": \"\"}}, \"type\": \"scattermapbox\"}], \"scatterpolar\": [{\"marker\": {\"colorbar\": {\"outlinewidth\": 0, \"ticks\": \"\"}}, \"type\": \"scatterpolar\"}], \"scatterpolargl\": [{\"marker\": {\"colorbar\": {\"outlinewidth\": 0, \"ticks\": \"\"}}, \"type\": \"scatterpolargl\"}], \"scatterternary\": [{\"marker\": {\"colorbar\": {\"outlinewidth\": 0, \"ticks\": \"\"}}, \"type\": \"scatterternary\"}], \"surface\": [{\"colorbar\": {\"outlinewidth\": 0, \"ticks\": \"\"}, \"colorscale\": [[0.0, \"#0d0887\"], [0.1111111111111111, \"#46039f\"], [0.2222222222222222, \"#7201a8\"], [0.3333333333333333, \"#9c179e\"], [0.4444444444444444, \"#bd3786\"], [0.5555555555555556, \"#d8576b\"], [0.6666666666666666, \"#ed7953\"], [0.7777777777777778, \"#fb9f3a\"], [0.8888888888888888, \"#fdca26\"], [1.0, \"#f0f921\"]], \"type\": \"surface\"}], \"table\": [{\"cells\": {\"fill\": {\"color\": \"#EBF0F8\"}, \"line\": {\"color\": \"white\"}}, \"header\": {\"fill\": {\"color\": \"#C8D4E3\"}, \"line\": {\"color\": \"white\"}}, \"type\": \"table\"}]}, \"layout\": {\"annotationdefaults\": {\"arrowcolor\": \"#2a3f5f\", \"arrowhead\": 0, \"arrowwidth\": 1}, \"coloraxis\": {\"colorbar\": {\"outlinewidth\": 0, \"ticks\": \"\"}}, \"colorscale\": {\"diverging\": [[0, \"#8e0152\"], [0.1, \"#c51b7d\"], [0.2, \"#de77ae\"], [0.3, \"#f1b6da\"], [0.4, \"#fde0ef\"], [0.5, \"#f7f7f7\"], [0.6, \"#e6f5d0\"], [0.7, \"#b8e186\"], [0.8, \"#7fbc41\"], [0.9, \"#4d9221\"], [1, \"#276419\"]], \"sequential\": [[0.0, \"#0d0887\"], [0.1111111111111111, \"#46039f\"], [0.2222222222222222, \"#7201a8\"], [0.3333333333333333, \"#9c179e\"], [0.4444444444444444, \"#bd3786\"], [0.5555555555555556, \"#d8576b\"], [0.6666666666666666, \"#ed7953\"], [0.7777777777777778, \"#fb9f3a\"], [0.8888888888888888, \"#fdca26\"], [1.0, \"#f0f921\"]], \"sequentialminus\": [[0.0, \"#0d0887\"], [0.1111111111111111, \"#46039f\"], [0.2222222222222222, \"#7201a8\"], [0.3333333333333333, \"#9c179e\"], [0.4444444444444444, \"#bd3786\"], [0.5555555555555556, \"#d8576b\"], [0.6666666666666666, \"#ed7953\"], [0.7777777777777778, \"#fb9f3a\"], [0.8888888888888888, \"#fdca26\"], [1.0, \"#f0f921\"]]}, \"colorway\": [\"#636efa\", \"#EF553B\", \"#00cc96\", \"#ab63fa\", \"#FFA15A\", \"#19d3f3\", \"#FF6692\", \"#B6E880\", \"#FF97FF\", \"#FECB52\"], \"font\": {\"color\": \"#2a3f5f\"}, \"geo\": {\"bgcolor\": \"white\", \"lakecolor\": \"white\", \"landcolor\": \"#E5ECF6\", \"showlakes\": true, \"showland\": true, \"subunitcolor\": \"white\"}, \"hoverlabel\": {\"align\": \"left\"}, \"hovermode\": \"closest\", \"mapbox\": {\"style\": \"light\"}, \"paper_bgcolor\": \"white\", \"plot_bgcolor\": \"#E5ECF6\", \"polar\": {\"angularaxis\": {\"gridcolor\": \"white\", \"linecolor\": \"white\", \"ticks\": \"\"}, \"bgcolor\": \"#E5ECF6\", \"radialaxis\": {\"gridcolor\": \"white\", \"linecolor\": \"white\", \"ticks\": \"\"}}, \"scene\": {\"xaxis\": {\"backgroundcolor\": \"#E5ECF6\", \"gridcolor\": \"white\", \"gridwidth\": 2, \"linecolor\": \"white\", \"showbackground\": true, \"ticks\": \"\", \"zerolinecolor\": \"white\"}, \"yaxis\": {\"backgroundcolor\": \"#E5ECF6\", \"gridcolor\": \"white\", \"gridwidth\": 2, \"linecolor\": \"white\", \"showbackground\": true, \"ticks\": \"\", \"zerolinecolor\": \"white\"}, \"zaxis\": {\"backgroundcolor\": \"#E5ECF6\", \"gridcolor\": \"white\", \"gridwidth\": 2, \"linecolor\": \"white\", \"showbackground\": true, \"ticks\": \"\", \"zerolinecolor\": \"white\"}}, \"shapedefaults\": {\"line\": {\"color\": \"#2a3f5f\"}}, \"ternary\": {\"aaxis\": {\"gridcolor\": \"white\", \"linecolor\": \"white\", \"ticks\": \"\"}, \"baxis\": {\"gridcolor\": \"white\", \"linecolor\": \"white\", \"ticks\": \"\"}, \"bgcolor\": \"#E5ECF6\", \"caxis\": {\"gridcolor\": \"white\", \"linecolor\": \"white\", \"ticks\": \"\"}}, \"title\": {\"x\": 0.05}, \"xaxis\": {\"automargin\": true, \"gridcolor\": \"white\", \"linecolor\": \"white\", \"ticks\": \"\", \"title\": {\"standoff\": 15}, \"zerolinecolor\": \"white\", \"zerolinewidth\": 2}, \"yaxis\": {\"automargin\": true, \"gridcolor\": \"white\", \"linecolor\": \"white\", \"ticks\": \"\", \"title\": {\"standoff\": 15}, \"zerolinecolor\": \"white\", \"zerolinewidth\": 2}}}},\n",
       "                        {\"responsive\": true}\n",
       "                    ).then(function(){\n",
       "                            \n",
       "var gd = document.getElementById('141562be-d7aa-4b55-a3cc-d6dff3e33dfc');\n",
       "var x = new MutationObserver(function (mutations, observer) {{\n",
       "        var display = window.getComputedStyle(gd).display;\n",
       "        if (!display || display === 'none') {{\n",
       "            console.log([gd, 'removed!']);\n",
       "            Plotly.purge(gd);\n",
       "            observer.disconnect();\n",
       "        }}\n",
       "}});\n",
       "\n",
       "// Listen for the removal of the full notebook cells\n",
       "var notebookContainer = gd.closest('#notebook-container');\n",
       "if (notebookContainer) {{\n",
       "    x.observe(notebookContainer, {childList: true});\n",
       "}}\n",
       "\n",
       "// Listen for the clearing of the current output cell\n",
       "var outputEl = gd.closest('.output');\n",
       "if (outputEl) {{\n",
       "    x.observe(outputEl, {childList: true});\n",
       "}}\n",
       "\n",
       "                        })\n",
       "                };\n",
       "                });\n",
       "            </script>\n",
       "        </div>"
      ]
     },
     "metadata": {},
     "output_type": "display_data"
    }
   ],
   "source": [
    "coordenadasparalelas(2017)"
   ]
  },
  {
   "cell_type": "markdown",
   "metadata": {},
   "source": [
    "### Análise do Plot de Coordenadas Paralelas \n",
    "\n",
    "Podemos realizar uma análise do gráfico acima da seguinte maneira:\n",
    "    \n",
    "- As linhas verdes são as dos países que ocupam as primeiras posições do ranking, enquanto que as vermelhas, dos últimos.\n",
    "\n",
    "- Podemos analisar que a economia é um fator importante, pois a densidade de linhas verdes (países mais felizes) encontram-se no topo (maior renda per capita) e dos países tristes encontram-se na parte inferior (pior renda per capita). \n",
    "\n",
    "- Outro fator determinante para a posição no ranking é o parâmetro Health, que indica a expectativa de vida. Países mais bem colocados possuem grande densidade no topo, enquanto os piores colocados, na parte inferior. "
   ]
  },
  {
   "cell_type": "markdown",
   "metadata": {},
   "source": [
    "### Etapa 4: Encontrando as variáveis que mais impactam no score utilizando de Random Forest\n",
    "    \n",
    "Vamos utilizar o algoritmo de machine learning Random Forest para verificar quais são os atributos mais importantes na pontuação geral do ranking."
   ]
  },
  {
   "cell_type": "code",
   "execution_count": 54,
   "metadata": {},
   "outputs": [
    {
     "data": {
      "image/png": "[encoded data removed]",
      "text/plain": [
       "<Figure size 1296x720 with 1 Axes>"
      ]
     },
     "metadata": {
      "needs_background": "light"
     },
     "output_type": "display_data"
    }
   ],
   "source": [
    "mult3=data[['HappinessRank', 'HappinessScore', 'Economy', 'Family', 'Health', 'Freedom', 'Corruption','Generosity','Dystopia']]\n",
    "\n",
    "minmaxscaler = preprocessing.MinMaxScaler()\n",
    "dtanormalizado = minmaxscaler.fit_transform(mult3)\n",
    "dtnormalizado = pd.DataFrame(dtanormalizado, columns=mult3.columns)\n",
    "\n",
    "clf = RandomForestRegressor(n_estimators=1000, random_state=0, n_jobs=-1)\n",
    "\n",
    "clf.fit(dtnormalizado[['Economy', 'Family', 'Health', 'Freedom', 'Corruption','Generosity','Dystopia']], dtnormalizado['HappinessScore'])\n",
    "\n",
    "importance = clf.feature_importances_\n",
    "\n",
    "plt.figure(figsize=(18, 10))\n",
    "plt.bar(['Economy', 'Family', 'Health', 'Freedom', 'Corruption','Generosity','Dystopia'],importance)\n",
    "plt.grid()\n",
    "plt.ylabel(\"Importância\")\n",
    "plt.title('Variáveis Mais Importantes')\n",
    "plt.show()"
   ]
  },
  {
   "cell_type": "markdown",
   "metadata": {},
   "source": [
    "## Análise do Feature Selection\n",
    "\n",
    "O algoritmo de Random Forest concordou com nossa análise visual. Podemos notar que as variáveis mais importantes para o score geral são: Economy e Health. A terceira mais significante é o fator Dystopia."
   ]
  },
  {
   "cell_type": "markdown",
   "metadata": {},
   "source": [
    "### Etapa 5: Implementando uma Regressão Ridge para prever o Score com base nas variáveis Economy, Health, Freedom e Dystopia"
   ]
  },
  {
   "cell_type": "code",
   "execution_count": 60,
   "metadata": {},
   "outputs": [],
   "source": [
    "Xtreino, Xteste, ytreino, yteste = train_test_split(dtnormalizado[['Economy','Health','Freedom','Dystopia']], dtnormalizado['HappinessScore'], test_size=0.5, random_state=42)\n"
   ]
  },
  {
   "cell_type": "code",
   "execution_count": 61,
   "metadata": {},
   "outputs": [
    {
     "data": {
      "image/png": "[encoded data removed]",
      "text/plain": [
       "<Figure size 1296x720 with 1 Axes>"
      ]
     },
     "metadata": {
      "needs_background": "light"
     },
     "output_type": "display_data"
    }
   ],
   "source": [
    "rmse2 = []\n",
    "\n",
    "r2score = []\n",
    "\n",
    "lista = np.arange(0,4,0.1).astype(int)  \n",
    "\n",
    "for i in lista :\n",
    "    ridgereg = Ridge(alpha=i, normalize=True)\n",
    "    ridgereg.fit(Xtreino, ytreino)\n",
    "    ypredridge = ridgereg.predict(Xteste)\n",
    "    rmse2.append(sqrt(mean_squared_error(yteste,ypredridge)))\n",
    "    r2score.append(r2_score(yteste,ypredridge))\n",
    "\n",
    "plt.figure(figsize=(18,10))\n",
    "plt.plot(lista,np.array(r2score)/max(r2score),label='R2 Score')\n",
    "plt.plot(lista,np.array(rmse2)/max(rmse2), label=('RMSE Score'))\n",
    "plt.grid()\n",
    "plt.legend()\n",
    "plt.xlabel('Alpha')\n",
    "plt.show()\n"
   ]
  },
  {
   "cell_type": "code",
   "execution_count": 77,
   "metadata": {},
   "outputs": [],
   "source": [
    "ridgereg = Ridge(alpha=1.58, normalize=True)\n",
    "ridgereg.fit(Xtreino, ytreino)\n",
    "ypredridge2 = ridgereg.predict(Xteste)"
   ]
  },
  {
   "cell_type": "code",
   "execution_count": 78,
   "metadata": {},
   "outputs": [
    {
     "data": {
      "image/png": "[encoded data removed]",
      "text/plain": [
       "<Figure size 1296x720 with 1 Axes>"
      ]
     },
     "metadata": {
      "needs_background": "light"
     },
     "output_type": "display_data"
    }
   ],
   "source": [
    "plt.figure(figsize=(18, 10))\n",
    "plt.plot(range(0,len(yteste)),yteste, label='Real')\n",
    "plt.plot(range(0,len(yteste)),ypredridge2,color='blue',label='Previsto')\n",
    "plt.grid()\n",
    "plt.ylim(0,1)\n",
    "plt.legend()\n",
    "plt.show()"
   ]
  },
  {
   "cell_type": "markdown",
   "metadata": {},
   "source": [
    "### Resultados:"
   ]
  },
  {
   "cell_type": "code",
   "execution_count": 64,
   "metadata": {},
   "outputs": [
    {
     "data": {
      "image/png": "[encoded data removed]",
      "text/plain": [
       "<Figure size 1296x720 with 1 Axes>"
      ]
     },
     "metadata": {
      "needs_background": "light"
     },
     "output_type": "display_data"
    }
   ],
   "source": [
    "rmse2 = []\n",
    "rmse3 = []\n",
    "\n",
    "r2score2 = []\n",
    "\n",
    "lista = np.arange(0,30,0.1).astype(int)  \n",
    "\n",
    "for i in lista :\n",
    "    ridgereg = Ridge(alpha=i, normalize=True)\n",
    "    ridgereg.fit(Xtreino, ytreino)\n",
    "    ypredridge = ridgereg.predict(Xteste)\n",
    "    ypredridge2 = ridgereg.predict(Xtreino)\n",
    "    rmse2.append(sqrt(mean_squared_error(yteste,ypredridge)))\n",
    "    rmse3.append(sqrt(mean_squared_error(ytreino,ypredridge2)))\n",
    "    \n",
    "plt.figure(figsize=(18,10))\n",
    "plt.plot(lista,rmse2, label='Erro de Teste')\n",
    "plt.plot(lista,rmse3, label=('Erro de Treino'))\n",
    "plt.grid()\n",
    "plt.legend()\n",
    "plt.xlabel('Alpha')\n",
    "plt.ylabel('Erro')\n",
    "plt.show()\n"
   ]
  },
  {
   "cell_type": "code",
   "execution_count": 69,
   "metadata": {},
   "outputs": [
    {
     "name": "stdout",
     "output_type": "stream",
     "text": [
      "Mean Squared Error:  0.11211852105824535\n",
      "Root Mean Squared Error:  0.33484103849176755\n"
     ]
    }
   ],
   "source": [
    "print(\"Mean Squared Error: \", mean_squared_error(yteste,ypredridge2)) \n",
    "print(\"Root Mean Squared Error: \", sqrt(mean_squared_error(yteste,ypredridge2))) "
   ]
  }
 ],
 "metadata": {
  "kernelspec": {
   "display_name": "Python 3",
   "language": "python",
   "name": "python3"
  },
  "language_info": {
   "codemirror_mode": {
    "name": "ipython",
    "version": 3
   },
   "file_extension": ".py",
   "mimetype": "text/x-python",
   "name": "python",
   "nbconvert_exporter": "python",
   "pygments_lexer": "ipython3",
   "version": "3.7.6"
  }
 },
 "nbformat": 4,
 "nbformat_minor": 4
}
