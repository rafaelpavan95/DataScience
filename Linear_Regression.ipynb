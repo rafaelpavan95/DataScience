{
 "cells": [
  {
   "cell_type": "markdown",
   "metadata": {},
   "source": [
    "# Teoria - Regressão Linear"
   ]
  },
  {
   "cell_type": "markdown",
   "metadata": {},
   "source": [
    "#### Source: An Introduction to Statistical Learning (With Applications in R)"
   ]
  },
  {
   "cell_type": "markdown",
   "metadata": {},
   "source": [
    "A Regressão Linear é um método de machine learning de aprendizado supervisionado utilizado para prever uma resposta quantitativa de (Y) com base em um único preditor (X). Ela assume que a relação entre estas duas variáveis é aproximadamente linear. A equação que define o algoritmo é dada pela equação da reta:"
   ]
  },
  {
   "cell_type": "markdown",
   "metadata": {},
   "source": [
    "$$Y = B0 + B1*X$$"
   ]
  },
  {
   "cell_type": "markdown",
   "metadata": {},
   "source": [
    "O Coeficiente (B0) de intersecção da reta com o eixo Y, é determinado por:"
   ]
  },
  {
   "cell_type": "markdown",
   "metadata": {},
   "source": [
    "$$B0 = \\overline{Y} - B1*\\overline{X}$$"
   ]
  },
  {
   "cell_type": "markdown",
   "metadata": {},
   "source": [
    "O Coeficiente angular da reta (B1), que determina a inclinação desta, é determinado por:"
   ]
  },
  {
   "cell_type": "markdown",
   "metadata": {},
   "source": [
    "$$B1 = \\frac{\\sum (X_i-\\overline{X})(Y_i-\\overline{Y})}{\\sum (X_i-\\overline{X})^2}$$"
   ]
  },
  {
   "cell_type": "markdown",
   "metadata": {},
   "source": [
    "Sendo:"
   ]
  },
  {
   "cell_type": "markdown",
   "metadata": {},
   "source": [
    "- $X$ = Variável Independente;\n",
    "- $Y$ = Variável Dependente;\n",
    "- $\\overline{X}$ = Representa a Média de $X$;\n",
    "- $\\overline{Y}$ = Representa a Média de $Y$;\n",
    "- $B0$ = Coeficiente de Intersecção da Reta;\n",
    "- $B1$ = Coeficiente Angular da Reta;\n",
    "\n"
   ]
  },
  {
   "cell_type": "markdown",
   "metadata": {},
   "source": [
    "## Carregando as Bibliotecas e os Dados"
   ]
  },
  {
   "cell_type": "markdown",
   "metadata": {},
   "source": [
    "Para ilustrarmos os algoritmos e a teoria de regressão linear, iremos utilizar o dataset CalCOFI, onde poderemos analisar o comportamento da salinidade da água em relação a sua temperatura.\n",
    "\n",
    "Link: https://www.kaggle.com/sohier/calcofi/data"
   ]
  },
  {
   "cell_type": "code",
   "execution_count": 138,
   "metadata": {},
   "outputs": [],
   "source": [
    "import numpy as np\n",
    "import pandas as pd\n",
    "import matplotlib.pyplot as plt\n",
    "from sklearn.linear_model import LinearRegression\n",
    "from sklearn.metrics import mean_squared_error, r2_score, mean_absolute_error\n",
    "import warnings\n",
    "warnings.filterwarnings('ignore')\n",
    "%matplotlib inline"
   ]
  },
  {
   "cell_type": "code",
   "execution_count": 109,
   "metadata": {},
   "outputs": [
    {
     "data": {
      "text/html": [
       "<div>\n",
       "<style scoped>\n",
       "    .dataframe tbody tr th:only-of-type {\n",
       "        vertical-align: middle;\n",
       "    }\n",
       "\n",
       "    .dataframe tbody tr th {\n",
       "        vertical-align: top;\n",
       "    }\n",
       "\n",
       "    .dataframe thead th {\n",
       "        text-align: right;\n",
       "    }\n",
       "</style>\n",
       "<table border=\"1\" class=\"dataframe\">\n",
       "  <thead>\n",
       "    <tr style=\"text-align: right;\">\n",
       "      <th></th>\n",
       "      <th>T_degC</th>\n",
       "      <th>Salnty</th>\n",
       "    </tr>\n",
       "  </thead>\n",
       "  <tbody>\n",
       "    <tr>\n",
       "      <th>0</th>\n",
       "      <td>10.50</td>\n",
       "      <td>33.440</td>\n",
       "    </tr>\n",
       "    <tr>\n",
       "      <th>1</th>\n",
       "      <td>10.46</td>\n",
       "      <td>33.440</td>\n",
       "    </tr>\n",
       "    <tr>\n",
       "      <th>2</th>\n",
       "      <td>10.46</td>\n",
       "      <td>33.437</td>\n",
       "    </tr>\n",
       "    <tr>\n",
       "      <th>3</th>\n",
       "      <td>10.45</td>\n",
       "      <td>33.420</td>\n",
       "    </tr>\n",
       "    <tr>\n",
       "      <th>4</th>\n",
       "      <td>10.45</td>\n",
       "      <td>33.421</td>\n",
       "    </tr>\n",
       "  </tbody>\n",
       "</table>\n",
       "</div>"
      ],
      "text/plain": [
       "   T_degC  Salnty\n",
       "0   10.50  33.440\n",
       "1   10.46  33.440\n",
       "2   10.46  33.437\n",
       "3   10.45  33.420\n",
       "4   10.45  33.421"
      ]
     },
     "execution_count": 109,
     "metadata": {},
     "output_type": "execute_result"
    }
   ],
   "source": [
    "data = pd.read_csv(r'/home/rafaelpavan95/anaconda3/bottle.csv')\n",
    "reg_df = data[['T_degC','Salnty']]\n",
    "reg_df = reg_df[:][:500]\n",
    "reg_df.fillna(method='ffill', inplace=True)\n",
    "reg_df.head()"
   ]
  },
  {
   "cell_type": "code",
   "execution_count": 110,
   "metadata": {},
   "outputs": [],
   "source": [
    "X,Y = reg_df['T_degC'].values.reshape(-1, 1), reg_df['Salnty'].values.reshape(-1, 1)"
   ]
  },
  {
   "cell_type": "code",
   "execution_count": 111,
   "metadata": {},
   "outputs": [
    {
     "data": {
      "image/png": "[encoded data removed]",
      "text/plain": [
       "<Figure size 432x432 with 1 Axes>"
      ]
     },
     "metadata": {
      "needs_background": "light"
     },
     "output_type": "display_data"
    }
   ],
   "source": [
    "plt.figure(figsize=(6, 6))\n",
    "plt.scatter(X, Y)\n",
    "plt.xlabel('Temperatura')\n",
    "plt.ylabel('Salinidade')\n",
    "plt.show()"
   ]
  },
  {
   "cell_type": "markdown",
   "metadata": {},
   "source": [
    "## Implementando o Algoritmo de Regressão"
   ]
  },
  {
   "cell_type": "code",
   "execution_count": 112,
   "metadata": {},
   "outputs": [],
   "source": [
    "class LinearReg():\n",
    "    def __init__(self):\n",
    "        \n",
    "        self.b0 = 0.0\n",
    "        self.b1 = 0.0\n",
    "    \n",
    "    def fit(self, X, Y):\n",
    "        \n",
    "        x1 = (X - np.mean(X))\n",
    "        y1 = (Y - np.mean(Y))\n",
    "        \n",
    "        self.B1 = (np.sum(x1*y1))/(np.sum(x1*x1))\n",
    "        self.B0 = np.mean(Y) - (self.B1 * np.mean(X))\n",
    "    \n",
    "    def predict(self, X):\n",
    "        \n",
    "        return self.B0 + self.B1*X"
   ]
  },
  {
   "cell_type": "markdown",
   "metadata": {},
   "source": [
    "## Testando"
   ]
  },
  {
   "cell_type": "code",
   "execution_count": 113,
   "metadata": {},
   "outputs": [
    {
     "data": {
      "text/plain": [
       "Text(0, 0.5, 'Salinidade')"
      ]
     },
     "execution_count": 113,
     "metadata": {},
     "output_type": "execute_result"
    },
    {
     "data": {
      "image/png": "[encoded data removed]",
      "text/plain": [
       "<Figure size 432x432 with 1 Axes>"
      ]
     },
     "metadata": {
      "needs_background": "light"
     },
     "output_type": "display_data"
    }
   ],
   "source": [
    "reg=LinearReg()\n",
    "reg.fit(X,Y)\n",
    "plt.figure(figsize=(6, 6))\n",
    "plt.scatter(X, Y)\n",
    "plt.plot(X, reg.predict(X), c='red')\n",
    "plt.xlabel('Temperatura')\n",
    "plt.ylabel('Salinidade')"
   ]
  },
  {
   "cell_type": "code",
   "execution_count": 114,
   "metadata": {},
   "outputs": [
    {
     "name": "stdout",
     "output_type": "stream",
     "text": [
      "B0: 35.01967663686463 B1: -0.17797651118942892\n"
     ]
    }
   ],
   "source": [
    "print('B0: {} B1: {}'.format(reg.B0, reg.B1))"
   ]
  },
  {
   "cell_type": "markdown",
   "metadata": {},
   "source": [
    "## Comparando com o Algoritmo do Scikit-Learn"
   ]
  },
  {
   "cell_type": "code",
   "execution_count": 115,
   "metadata": {},
   "outputs": [
    {
     "data": {
      "text/plain": [
       "Text(0, 0.5, 'Salinidade')"
      ]
     },
     "execution_count": 115,
     "metadata": {},
     "output_type": "execute_result"
    },
    {
     "data": {
      "image/png": "[encoded data removed]",
      "text/plain": [
       "<Figure size 432x432 with 1 Axes>"
      ]
     },
     "metadata": {
      "needs_background": "light"
     },
     "output_type": "display_data"
    }
   ],
   "source": [
    "reg2 = LinearRegression()\n",
    "reg2.fit(X, Y)\n",
    "plt.figure(figsize=(6, 6))\n",
    "plt.scatter(X, Y)\n",
    "plt.plot(X, reg2.predict(X), c='red')\n",
    "plt.xlabel('Temperatura')\n",
    "plt.ylabel('Salinidade')"
   ]
  },
  {
   "cell_type": "code",
   "execution_count": 116,
   "metadata": {},
   "outputs": [
    {
     "name": "stdout",
     "output_type": "stream",
     "text": [
      "B0: [35.01967664] B1: [[-0.17797651]]\n"
     ]
    }
   ],
   "source": [
    "print('B0: {} B1: {}'.format(reg2.intercept_, reg2.coef_))"
   ]
  },
  {
   "cell_type": "markdown",
   "metadata": {},
   "source": [
    "Podemos observar que a regressão implementada com a equação teórica, apresenta o mesmo resultado que a implementada através da biblioteca do Scikit-Learn."
   ]
  },
  {
   "cell_type": "markdown",
   "metadata": {},
   "source": [
    "## Indicadores"
   ]
  },
  {
   "cell_type": "markdown",
   "metadata": {},
   "source": [
    "### R²  "
   ]
  },
  {
   "cell_type": "markdown",
   "metadata": {},
   "source": [
    "O coeficiente de determinação, também chamado de R², é uma medida de ajuste de um modelo estatístico linear generalizado, como a regressão linear simples ou múltipla, aos valores observados de uma variável aleatória. O R² varia entre 0 e 1, por vezes sendo expresso em termos percentuais. Nesse caso, expressa a quantidade da variância dos dados que é explicada pelo modelo linear. Assim, quanto maior o R², mais explicativo é o modelo linear, ou seja, melhor ele se ajusta à amostra. Por exemplo, um R² = 0,90 significa que o modelo linear explica 90,00 % da variância da variável dependente a partir do regressores (variáveis independentes) incluídas naquele modelo linear. "
   ]
  },
  {
   "cell_type": "code",
   "execution_count": 120,
   "metadata": {},
   "outputs": [
    {
     "data": {
      "text/plain": [
       "0.8486664979080796"
      ]
     },
     "execution_count": 120,
     "metadata": {},
     "output_type": "execute_result"
    }
   ],
   "source": [
    "r2_score(Y, reg2.predict(X))"
   ]
  },
  {
   "cell_type": "markdown",
   "metadata": {},
   "source": [
    "### MSE - Mean Squared Error"
   ]
  },
  {
   "cell_type": "markdown",
   "metadata": {},
   "source": [
    "O erro quadrático médio é definido como sendo a média da diferença entre o valor do estimador e do parâmetro ao quadrado. Esta métrica sobrestima quão ruim o seu modelo é, pois até mesmos os erros pequenos são penalizados. Quanto menor o erro quadrático médio (mais próximo de 0), melhor. "
   ]
  },
  {
   "cell_type": "code",
   "execution_count": 121,
   "metadata": {},
   "outputs": [
    {
     "data": {
      "text/plain": [
       "0.04769173355966501"
      ]
     },
     "execution_count": 121,
     "metadata": {},
     "output_type": "execute_result"
    }
   ],
   "source": [
    "mean_squared_error(Y, reg2.predict(X))"
   ]
  },
  {
   "cell_type": "markdown",
   "metadata": {},
   "source": [
    "### MAE - Mean Absolute Error\n"
   ]
  },
  {
   "cell_type": "markdown",
   "metadata": {},
   "source": [
    "É a diferença absoluta entre o valor real e o valor previsto pelo modelo de regressão linear. Ele é menos sensível aos \"outliers\". É uma métrica linear, o que significa que todas as diferenças são penalizadas igualmente. Não se deve aplicar em ocasiões onde se queira prestar atenção aos \"outliers\"."
   ]
  },
  {
   "cell_type": "code",
   "execution_count": 135,
   "metadata": {},
   "outputs": [
    {
     "data": {
      "text/plain": [
       "0.16425945296598685"
      ]
     },
     "execution_count": 135,
     "metadata": {},
     "output_type": "execute_result"
    }
   ],
   "source": [
    "mean_absolute_error(Y,reg2.predict(X))"
   ]
  },
  {
   "cell_type": "markdown",
   "metadata": {},
   "source": [
    "### RMSE - Root Mean Squared Error"
   ]
  },
  {
   "cell_type": "markdown",
   "metadata": {},
   "source": [
    "RMSE nada mais é do que a raiz quadrada do erro quadrático médio entre o valor real e o valor previsto pelo modelo. Em alguns casos é preferível utilizar tal métrica pois os erros são primeiramente elevados ao quadrado para depois ser calculada a média, o que acarreta em uma alta penalidade em erros grandes. É mais útil para quando se quer prestar atenção nos maiores erros."
   ]
  },
  {
   "cell_type": "code",
   "execution_count": 137,
   "metadata": {},
   "outputs": [
    {
     "data": {
      "text/plain": [
       "0.21838437114332382"
      ]
     },
     "execution_count": 137,
     "metadata": {},
     "output_type": "execute_result"
    }
   ],
   "source": [
    "np.sqrt(mean_squared_error(Y, reg2.predict(X)))"
   ]
  }
 ],
 "metadata": {
  "kernelspec": {
   "display_name": "Python 3",
   "language": "python",
   "name": "python3"
  },
  "language_info": {
   "codemirror_mode": {
    "name": "ipython",
    "version": 3
   },
   "file_extension": ".py",
   "mimetype": "text/x-python",
   "name": "python",
   "nbconvert_exporter": "python",
   "pygments_lexer": "ipython3",
   "version": "3.7.6"
  }
 },
 "nbformat": 4,
 "nbformat_minor": 4
}
